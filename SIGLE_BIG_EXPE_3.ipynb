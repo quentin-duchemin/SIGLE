{
 "cells": [
  {
   "cell_type": "markdown",
   "id": "34706fda",
   "metadata": {},
   "source": [
    "# Big Exp 3 global null\n",
    "\n",
    "\n",
    "### Authors: Quentin Duchemin & Yohann De Castro"
   ]
  },
  {
   "cell_type": "code",
   "execution_count": 1,
   "id": "4cb5ae22",
   "metadata": {},
   "outputs": [],
   "source": [
    "import numpy as np\n",
    "import matplotlib.pyplot as plt\n",
    "from scipy.integrate import odeint\n",
    "from sklearn.linear_model import LinearRegression\n",
    "from sklearn.linear_model import LogisticRegression, LogisticRegressionCV\n",
    "from inverse_map import inverse_map, train_network\n",
    "import torch\n",
    "import scipy\n",
    "import scipy as sc\n",
    "import scipy.stats\n",
    "from PSIGLL import *"
   ]
  },
  {
   "cell_type": "code",
   "execution_count": 2,
   "id": "485728d9",
   "metadata": {},
   "outputs": [
    {
     "name": "stdout",
     "output_type": "stream",
     "text": [
      "Selected support:  [0 1 2 3 4 5 6]\n",
      "Size selected support:  7\n"
     ]
    }
   ],
   "source": [
    "n,p = 10000,8\n",
    "lamb = 2\n",
    "\n",
    "d = 2\n",
    "theta = 0*np.ones(d)\n",
    "truetheta = np.zeros(p)\n",
    "truetheta[:d] = theta\n",
    "\n",
    "np.random.seed(1)\n",
    "\n",
    "rescale = 1 #10 * np.sqrt(n)\n",
    "lamb *= rescale * lamb\n",
    "\n",
    "\n",
    "X = rescale * np.random.normal(0,1,(n,p))\n",
    "#X /= np.tile(np.linalg.norm(X,axis=0),(n,1))\n",
    "# proj = X[:,:d] @ np.linalg.inv(X[:,:d].T @ X[:,:d]) @ X[:,:d].T\n",
    "# X[:,d:] = (np.eye(n)-proj) @ X[:,d:] \n",
    "\n",
    "\n",
    "matXtrue = X[:,:d]\n",
    "\n",
    "sig = sigmoid(matXtrue @ theta)\n",
    "yobs = np.random.rand(n) <= sig\n",
    "model = LogisticRegression(C = 1/lamb, penalty='l1', solver='liblinear', fit_intercept=False)\n",
    "model.fit(X, yobs)\n",
    "theta_obs = model.coef_[0]\n",
    "M = np.where( np.abs(theta_obs) > 1e-5)[0]\n",
    "print('Selected support: ', M)\n",
    "print('Size selected support: ', len(M))\n",
    "\n",
    "\n",
    "# definition of the null distribution\n",
    "thetanull = truetheta #np.zeros(p)\n",
    "signull = sigmoid(X @ thetanull)"
   ]
  },
  {
   "cell_type": "code",
   "execution_count": null,
   "id": "ccf3c16d",
   "metadata": {
    "scrolled": true
   },
   "outputs": [
    {
     "data": {
      "application/vnd.jupyter.widget-view+json": {
       "model_id": "43690030f9894513ba9a409989d17233",
       "version_major": 2,
       "version_minor": 0
      },
      "text/plain": [
       "  0%|          | 0/10000000 [00:00<?, ?it/s]"
      ]
     },
     "metadata": {},
     "output_type": "display_data"
    }
   ],
   "source": [
    "SEI_sampling = True\n",
    "if SEI_sampling:\n",
    "    states = SEI_by_sampling(sig, X, lamb, M, nb_ite=10000000)\n",
    "    if (np.abs(signull - sig)>1e-3).any():\n",
    "        statesnull = SEI_by_sampling(signull, X, lamb, M, nb_ite=10000000)\n",
    "    else:\n",
    "        statesnull = np.copy(states)\n",
    "else:\n",
    "    probasalt, EM_states = true_conditional_distribution(theta_obs,X,yobs,lamb,truetheta,conditioning_signs=False)\n",
    "    probasnull, EM_statesnull = true_conditional_distribution(theta_obs,X,yobs,lamb,thetanull,conditioning_signs=False,states=states)\n",
    "    idxs = np.random.choice([i for i in range(len(EM_states))], size=300, p=probasalt)\n",
    "    states = [EM_states[i] for i in idxs]\n",
    "    idxs_null = np.random.choice([i for i in range(len(EM_statesnull))], size=300, p=probasnull)\n",
    "    statesnull = [EM_statesnull[i] for i in idxs_null]\n",
    "print('Number of states in the selection event: ', len(states))\n",
    "np.save('states_BE3_null.npy', states)"
   ]
  },
  {
   "cell_type": "markdown",
   "id": "057b31de",
   "metadata": {},
   "source": [
    "##### Computing $\\bar \\pi ^{\\pi ^0}$ and training the NN aiming at computing $\\Psi=\\Xi^{-1}$"
   ]
  },
  {
   "cell_type": "code",
   "execution_count": null,
   "id": "368ade57",
   "metadata": {},
   "outputs": [],
   "source": [
    "n,p = np.shape(X)\n",
    "matXtrue = X[:,M]\n",
    "tildeGN_12, barpi = params_saturated(signull, matXtrue, statesnull)\n",
    "#net, loss_values = train_network(matXtrue/rescale**2,max(1,truetheta[0]),nb_epochs=100,lrstart=0.1,lrdecay_step=80)"
   ]
  },
  {
   "cell_type": "code",
   "execution_count": null,
   "id": "a26adc5c",
   "metadata": {
    "scrolled": true
   },
   "outputs": [],
   "source": [
    "lspvals_selec, lspvals_sat = pval_SIGLE(states, X, M, barpi, net=None, use_net_MLE=False, l2_regularization=10000)"
   ]
  },
  {
   "cell_type": "code",
   "execution_count": null,
   "id": "76463cb7",
   "metadata": {},
   "outputs": [],
   "source": [
    "lists_pvalues = [lspvals_selec, lspvals_sat]\n",
    "names = ['SIGLE Selected', 'SIGLE Saturated']\n",
    "plot_cdf_pvalues(lists_pvalues, names, name_figsave='global_null_be3.png')\n"
   ]
  },
  {
   "cell_type": "markdown",
   "id": "fec62fe5",
   "metadata": {},
   "source": [
    "##### Checking assumption of the Conditional CLT"
   ]
  },
  {
   "cell_type": "code",
   "execution_count": null,
   "id": "047bdef7",
   "metadata": {},
   "outputs": [],
   "source": [
    "coarse_upper_bound, upper_bound = upper_bound_condition_CCLT(states[:1000],X,barpi,tildeGN_12,M)\n",
    "print(\"Coarse Upper bound (Theorem statement): \", coarse_upper_bound)\n",
    "print(\"Upper bound (weaker requirement obtained in the proof): \", upper_bound)\n",
    "print(\"-> Both should tend to 0 as n grows.\")"
   ]
  },
  {
   "cell_type": "code",
   "execution_count": null,
   "id": "540ac07c",
   "metadata": {},
   "outputs": [],
   "source": [
    "matXtrue = X[:,M]\n",
    "rho = matXtrue.T @ barpi.T\n",
    "try:\n",
    "    tildetheta = net(torch.from_numpy(rho.T).float())\n",
    "    tildetheta = tildetheta.detach().numpy()\n",
    "except:\n",
    "    model = LogitRegressionContinuous()\n",
    "    model.fit(matXtrue, barpi)\n",
    "    tildetheta = model.coef_\n",
    "tildeGN = matXtrue.T @ np.diag(barpi*(np.ones(n)-barpi)) @ matXtrue\n",
    "usvd,s,vt = np.linalg.svd(tildeGN)\n",
    "tildeGN_12 = usvd @ np.diag(1/np.sqrt(s)) @ vt\n",
    "GNtilde = matXtrue.T @ np.diag(sigmoid1(matXtrue @ tildetheta)) @ matXtrue\n",
    "VN = tildeGN_12 @ GNtilde\n",
    "\n",
    "lsstat = []\n",
    "u  = np.random.normal(0,1,len(M))\n",
    "u /= np.linalg.norm(u)\n",
    "u = np.zeros(len(M))\n",
    "u[0] = 1\n",
    "lspvals_selec = []\n",
    "for i in range(len(states)):\n",
    "    y = np.array(states[i])\n",
    "    # selected\n",
    "    model = LogisticRegression(C=100000000, solver='liblinear', fit_intercept=False)\n",
    "    model.fit(matXtrue, y)\n",
    "    theta = model.coef_[0]\n",
    "    stat = u.T @ VN @ (theta - tildetheta)\n",
    "    stat = u.T @ tildeGN_12 @ matXtrue.T @ (y-barpi)\n",
    "    lsstat.append(stat)\n",
    "    stat2 = np.linalg.norm( VN @ (theta - tildetheta))**2\n",
    "    lspvals_selec.append(1-scipy.stats.chi2.cdf(stat2, len(M)))\n",
    "a= plt.hist(lsstat, density=True, alpha=0.2, bins=30)\n",
    "b = np.random.normal(0,1,500)\n",
    "c = plt.hist(b,density=True, bins=30, alpha=0.2, label='true gaussian')\n",
    "plt.legend()"
   ]
  },
  {
   "cell_type": "code",
   "execution_count": null,
   "id": "406a2ddd",
   "metadata": {},
   "outputs": [],
   "source": [
    "a = plt.hist(lspvals_selec)"
   ]
  },
  {
   "cell_type": "code",
   "execution_count": null,
   "id": "ae43d7bc",
   "metadata": {},
   "outputs": [],
   "source": []
  },
  {
   "cell_type": "markdown",
   "id": "a055ed0f",
   "metadata": {},
   "source": [
    "# Analyzing results"
   ]
  },
  {
   "cell_type": "code",
   "execution_count": null,
   "id": "0f61cfba",
   "metadata": {},
   "outputs": [],
   "source": [
    "path = '../../Bureau/data_SIGLE/'"
   ]
  },
  {
   "cell_type": "code",
   "execution_count": null,
   "id": "82728a72",
   "metadata": {},
   "outputs": [],
   "source": [
    "statesnull = np.load(path+'states_BE3_null.npy')"
   ]
  },
  {
   "cell_type": "code",
   "execution_count": null,
   "id": "64cd0092",
   "metadata": {},
   "outputs": [],
   "source": [
    "states = np.load(path+'')"
   ]
  }
 ],
 "metadata": {
  "kernelspec": {
   "display_name": "Python 3 (ipykernel)",
   "language": "python",
   "name": "python3"
  },
  "language_info": {
   "codemirror_mode": {
    "name": "ipython",
    "version": 3
   },
   "file_extension": ".py",
   "mimetype": "text/x-python",
   "name": "python",
   "nbconvert_exporter": "python",
   "pygments_lexer": "ipython3",
   "version": "3.9.7"
  }
 },
 "nbformat": 4,
 "nbformat_minor": 5
}
