{
  "cells": [
    {
      "cell_type": "code",
      "execution_count": null,
      "metadata": {
        "collapsed": false
      },
      "outputs": [],
      "source": [
        "%matplotlib inline"
      ]
    },
    {
      "cell_type": "markdown",
      "metadata": {},
      "source": [
        "\n# Sampling states from the SEI-SLR algorithm\nThe example runs the SEI-SLR algorithm to generate states uniformly distributed on the selection event.\n"
      ]
    },
    {
      "cell_type": "code",
      "execution_count": null,
      "metadata": {
        "collapsed": false
      },
      "outputs": [],
      "source": [
        "import PSILOGIT\nimport numpy as np\nfrom PSILOGIT.tools import *\nfrom sklearn.linear_model import LogisticRegression, LogisticRegressionCV\nimport matplotlib.pyplot as plt"
      ]
    },
    {
      "cell_type": "markdown",
      "metadata": {},
      "source": [
        "We build a model with a randomly generated dataset.\n\n"
      ]
    },
    {
      "cell_type": "code",
      "execution_count": null,
      "metadata": {
        "collapsed": false
      },
      "outputs": [],
      "source": [
        "n = 10\np = 15\ntheta = np.zeros(p)\nlamb = 2\nmodel = PSILOGIT.PSILOGIT(truetheta=theta, regularization=lamb,  n=n, p=p)"
      ]
    },
    {
      "cell_type": "markdown",
      "metadata": {},
      "source": [
        "We run the SEI-SLR algorithm.\n\n"
      ]
    },
    {
      "cell_type": "code",
      "execution_count": null,
      "metadata": {
        "collapsed": false
      },
      "outputs": [],
      "source": [
        "def linear_temperature(t):\n    return 0.2/np.log(t+1)\nstates, ls_FNR, energies = model.SEI_SLR(total_length_SEISLR_path=100000, backup_start_time=2000, temperature=linear_temperature, repulsing_force=True, random_start=True, conditioning_signs=False, seed=0)"
      ]
    },
    {
      "cell_type": "markdown",
      "metadata": {},
      "source": [
        "The size of the observed vector is small enough to compute exactly the states belonging to the selection event via an exhaustive search.\n\n"
      ]
    },
    {
      "cell_type": "code",
      "execution_count": null,
      "metadata": {
        "collapsed": false
      },
      "outputs": [],
      "source": [
        "nbM_admissibles, ls_states_admissibles = model.compute_selection_event(compare_with_energy=True)\nprint('Size of the selection event: ', len(ls_states_admissibles))"
      ]
    },
    {
      "cell_type": "markdown",
      "metadata": {},
      "source": [
        "By running over the~$2^{10}$ possible vectors $Y \\in \\{ 0,1\\}^N$, we have previously computed exactly the selection event.\nIn the following, we identify each vector $Y \\in \\{0, 1\\}^N$ with the number between~$0$ and~$2^N-1=1024$ that it represents in the base-2 numeral system.\nThe following figure shows the last $500,000$ visited states for our simulated annealing path. On the vertical axis, we have the integers encoded by all possible vectors $Y \\in \\{0,1\\}^N$. \nThe red dashed lines represent the states that belong to the selection event $E_M$. While crosses are showing the visited states on the last $500,000$ time steps of the path, green crosses are emphasizing the ones that belong to the selection event.\n\n"
      ]
    },
    {
      "cell_type": "code",
      "execution_count": null,
      "metadata": {
        "collapsed": false
      },
      "outputs": [],
      "source": [
        "model.last_visited_states(states, ls_states_admissibles)\nplt.show()"
      ]
    },
    {
      "cell_type": "markdown",
      "metadata": {},
      "source": [
        "The following figure shows that the SEI-SLR algorithm covers properly the selection event without being stuck in one specific state of $E_{M}$. \nThe simulated annealing path is jumping from one state of $E_{M}$ to another, ending up with an asymptotic distribution of the visited states that approximates the uniform distribution on $E_{M}$.\n\n"
      ]
    },
    {
      "cell_type": "code",
      "execution_count": null,
      "metadata": {
        "collapsed": false
      },
      "outputs": [],
      "source": [
        "model.histo_time_in_selection_event(states, ls_states_admissibles, rotation_angle=80)\nplt.show()"
      ]
    }
  ],
  "metadata": {
    "kernelspec": {
      "display_name": "Python 3",
      "language": "python",
      "name": "python3"
    },
    "language_info": {
      "codemirror_mode": {
        "name": "ipython",
        "version": 3
      },
      "file_extension": ".py",
      "mimetype": "text/x-python",
      "name": "python",
      "nbconvert_exporter": "python",
      "pygments_lexer": "ipython3",
      "version": "3.9.7"
    }
  },
  "nbformat": 4,
  "nbformat_minor": 0
}