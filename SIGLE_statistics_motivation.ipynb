{
 "cells": [
  {
   "cell_type": "code",
   "execution_count": 1,
   "id": "5ec17856",
   "metadata": {},
   "outputs": [],
   "source": [
    "import PSILOGIT\n",
    "import numpy as np\n",
    "from PSILOGIT.tools import *\n",
    "from sklearn.linear_model import LogisticRegression, LogisticRegressionCV\n",
    "import matplotlib.pyplot as plt\n",
    "\n",
    "def linear_temperature(t):\n",
    "    return 0.2/np.log(t+1)"
   ]
  },
  {
   "cell_type": "markdown",
   "id": "fce5f35e",
   "metadata": {},
   "source": [
    "# Run only one cell below depending on the setting you want to use"
   ]
  },
  {
   "cell_type": "code",
   "execution_count": 19,
   "id": "82db5637",
   "metadata": {},
   "outputs": [
    {
     "name": "stdout",
     "output_type": "stream",
     "text": [
      "Size of the set of active variables:  9\n"
     ]
    }
   ],
   "source": [
    "################### SETTING 1 Localized\n",
    "nu = 0.4\n",
    "\n",
    "n,p = 100,10\n",
    "\n",
    "## CHOOSE THE MODE (LOCALIZED OR DISSEMINATED)\n",
    "modes = ['disseminated-signal' ,'localized-signal']\n",
    "mode = modes[1]\n",
    "\n",
    "## CHOOSE THE NUMBER OF STEP FOR THE REJECTION SAMPLING METHOD \n",
    "nb_ite = 10000 # 400000\n",
    "\n",
    "lamb = 5\n",
    "\n",
    "if mode=='localized-signal':\n",
    "    vartheta = np.zeros(p)\n",
    "    vartheta[0] = nu\n",
    "else:\n",
    "    vartheta = nu*np.ones(p)\n",
    "    \n",
    "\n",
    "model = PSILOGIT.PSILOGIT(truetheta=vartheta, regularization=1/lamb, n=n, p=p)\n",
    "print('Size of the set of active variables: ', len(model.M))\n",
    "model.sampling_algorithm = 'RS'"
   ]
  },
  {
   "cell_type": "code",
   "execution_count": 3,
   "id": "83c47f2d",
   "metadata": {},
   "outputs": [
    {
     "name": "stdout",
     "output_type": "stream",
     "text": [
      "Size of the set of active variables:  5\n"
     ]
    }
   ],
   "source": [
    "################### SETTING 2 Localized\n",
    "nu = 3\n",
    "\n",
    "n,p = 20, 15\n",
    "\n",
    "## CHOOSE THE MODE (LOCALIZED OR DISSEMINATED)\n",
    "modes = ['disseminated-signal' ,'localized-signal']\n",
    "mode = modes[1]\n",
    "\n",
    "## CHOOSE THE NUMBER OF STEP FOR THE REJECTION SAMPLING METHOD \n",
    "nb_ite = 10000 # 400000\n",
    "\n",
    "lamb = 3\n",
    "\n",
    "if mode=='localized-signal':\n",
    "    vartheta = np.zeros(p)\n",
    "    vartheta[0] = nu\n",
    "else:\n",
    "    vartheta = nu*np.ones(p)\n",
    "    \n",
    "\n",
    "model = PSILOGIT.PSILOGIT(truetheta=vartheta, regularization=1/lamb, n=n, p=p)\n",
    "print('Size of the set of active variables: ', len(model.M))\n",
    "model.sampling_algorithm = 'SA'"
   ]
  },
  {
   "cell_type": "code",
   "execution_count": 14,
   "id": "7a7dcda3",
   "metadata": {},
   "outputs": [
    {
     "name": "stdout",
     "output_type": "stream",
     "text": [
      "Size of the set of active variables:  11\n"
     ]
    }
   ],
   "source": [
    "################### SETTING 3 Localized\n",
    "nu = 3\n",
    "\n",
    "n,p = 20, 30\n",
    "\n",
    "## CHOOSE THE MODE (LOCALIZED OR DISSEMINATED)\n",
    "modes = ['disseminated-signal' ,'localized-signal']\n",
    "mode = modes[1]\n",
    "\n",
    "## CHOOSE THE NUMBER OF STEP FOR THE REJECTION SAMPLING METHOD \n",
    "nb_ite = 10000 # 400000\n",
    "\n",
    "lamb = 3\n",
    "\n",
    "if mode=='localized-signal':\n",
    "    vartheta = np.zeros(p)\n",
    "    vartheta[0] = nu\n",
    "else:\n",
    "    vartheta = nu*np.ones(p)\n",
    "    \n",
    "    \n",
    "model = PSILOGIT.PSILOGIT(truetheta=vartheta, regularization=1/lamb, n=n, p=p)\n",
    "print('Size of the set of active variables: ', len(model.M))\n",
    "model.sampling_algorithm = 'SA'"
   ]
  },
  {
   "cell_type": "markdown",
   "id": "8c772a18",
   "metadata": {},
   "source": [
    "# Sampling states"
   ]
  },
  {
   "cell_type": "code",
   "execution_count": 20,
   "id": "74a846fc",
   "metadata": {},
   "outputs": [
    {
     "data": {
      "application/vnd.jupyter.widget-view+json": {
       "model_id": "4243272b60664513b4dd116976bfb3a7",
       "version_major": 2,
       "version_minor": 0
      },
      "text/plain": [
       "  0%|          | 0/10000 [00:00<?, ?it/s]"
      ]
     },
     "metadata": {},
     "output_type": "display_data"
    },
    {
     "data": {
      "application/vnd.jupyter.widget-view+json": {
       "model_id": "f5462b98632b4a3d833e243c5f5d1820",
       "version_major": 2,
       "version_minor": 0
      },
      "text/plain": [
       "  0%|          | 0/10000 [00:00<?, ?it/s]"
      ]
     },
     "metadata": {},
     "output_type": "display_data"
    }
   ],
   "source": [
    "thetanull = np.zeros(model.X.shape[1])\n",
    "signull = sigmoid(model.X @ thetanull)\n",
    "if model.sampling_algorithm !='SA':\n",
    "    states = model.SEI_by_sampling(model.sig, nb_ite=nb_ite)\n",
    "    if np.max(np.abs(signull-model.sig))<1e-3:\n",
    "        statesnull = np.copy(states)\n",
    "    else:\n",
    "        statesnull = model.SEI_by_sampling(signull, nb_ite=nb_ite)\n",
    "else:\n",
    "    states, ls_FNR, energies = model.SEI_SLR(total_length_SEISLR_path=50000, backup_start_time=2000, temperature=linear_temperature, repulsing_force=True, random_start=True, conditioning_signs=False, seed=0)\n",
    "    if np.max(np.abs(signull-model.sig))<1e-3:\n",
    "        statesnull = np.copy(states)\n",
    "    else:\n",
    "        statesnull, ls_FNR, energies = model.SEI_SLR(total_length_SEISLR_path=50000, backup_start_time=2000, temperature=linear_temperature, repulsing_force=True, random_start=True, conditioning_signs=False, seed=0)"
   ]
  },
  {
   "cell_type": "markdown",
   "id": "599b300e",
   "metadata": {},
   "source": [
    "# Computing covariance matrices and centering parameters"
   ]
  },
  {
   "cell_type": "code",
   "execution_count": 21,
   "id": "baf3b255",
   "metadata": {},
   "outputs": [
    {
     "data": {
      "application/vnd.jupyter.widget-view+json": {
       "model_id": "15d58ac8e6bd4472989f3791af6f8483",
       "version_major": 2,
       "version_minor": 0
      },
      "text/plain": [
       "  0%|          | 0/228 [00:00<?, ?it/s]"
      ]
     },
     "metadata": {},
     "output_type": "display_data"
    }
   ],
   "source": [
    "##### COMPUTING COVARIANCE MATRICES\n",
    "n,p = (model.X).shape\n",
    "matXtrue = model.X[:,model.M]\n",
    "\n",
    "tildeGN12, barpi = model.params_saturated(signull, statesnull)\n",
    "tildetheta, gaps = model.compute_theta_bar(barpi, grad_descent={'lr':0.01,'return_gaps':True,'max_ite':10000})\n",
    "GN = matXtrue.T @ np.diag(barpi*(np.ones(n)-barpi)) @ matXtrue\n",
    "HN = matXtrue.T @ np.diag(sigmoid1(matXtrue @ tildetheta)) @ matXtrue\n",
    "\n",
    "\n",
    "if model.sampling_algorithm != 'SA':\n",
    "    # Linear conditional covariance statistic (SATURATED)\n",
    "    Gammabar = np.zeros((n,n))\n",
    "    for y in statesnull:\n",
    "        Gammabar += np.reshape(y-barpi, (-1,1)) @ np.reshape(y-barpi, (1,-1)) / len(statesnull)\n",
    "    usvd,s,vt = np.linalg.svd(Gammabar)\n",
    "    Gammabar_12 = usvd @ np.diag(1/np.sqrt(s)) @ vt\n",
    "else:\n",
    "    # Linear conditional covariance statistic (SATURATED)\n",
    "    Gammabar = np.zeros((n,n))\n",
    "    normalization = 0\n",
    "    for y in statesnull:\n",
    "        proba = compute_proba(y,signull)\n",
    "        Gammabar += np.reshape(y-barpi, (-1,1)) @ np.reshape(y-barpi, (1,-1)) * proba\n",
    "        normalization += proba\n",
    "    Gammabar /= normalization\n",
    "    usvd,s,vt = np.linalg.svd(Gammabar)\n",
    "    Gammabar_12 = usvd @ np.diag(1/np.sqrt(s)) @ vt\n",
    "\n",
    "# Linear unconditional covariance statistic (SATURATED)\n",
    "Gamma = np.diag(signull *(np.ones(n)-signull))\n",
    "usvd,s,vt = np.linalg.svd(Gamma)\n",
    "Gamma_12 = usvd @ np.diag(1/np.sqrt(s)) @ vt\n",
    "\n",
    "\n",
    "# SIGLE (SELECTED)\n",
    "usvd,s,vt = np.linalg.svd(GN)\n",
    "GN_12 = usvd @ np.diag(1/np.sqrt(s)) @ vt\n",
    "VN = GN_12 @ HN\n",
    "\n",
    "# Logistic unconditional Fisher statistic (SELECTED)\n",
    "HN_uncondi = matXtrue.T @ np.diag(sigmoid1(model.X @ vartheta)) @ matXtrue\n",
    "GN_uncondi = matXtrue.T @ Gamma @ matXtrue\n",
    "usvd,s,vt = np.linalg.svd(GN_uncondi)\n",
    "GN_uncondi_12 = usvd @ np.diag(1/np.sqrt(s)) @ vt\n",
    "VN_fisher = GN_uncondi_12 @ HN_uncondi\n",
    "\n",
    "# SIGLE correlated (SELECTED)\n",
    "GNbar_misspe = matXtrue.T @ Gammabar @ matXtrue\n",
    "usvd,s,vt = np.linalg.svd(GNbar_misspe)\n",
    "GNbar_misspe_12 = usvd @ np.diag(1/np.sqrt(s)) @ vt\n",
    "VN_misspe = GNbar_misspe_12 @ HN\n",
    "    \n",
    "covariances = {'saturated' : {'SIGLE'        : GN_12 @ matXtrue.T,\n",
    "                              'SIGLE correlated': GNbar_misspe_12 @ matXtrue.T,\n",
    "                              'Logistic unconditional Fisher statistic':  GN_uncondi_12 @ matXtrue.T,\n",
    "                              'Linear conditional covariance statistic'  : Gammabar_12,\n",
    "                              'Linear unconditional covariance statistic': Gamma_12\n",
    "                             },\n",
    "               'selected'  : {'SIGLE'        : VN,\n",
    "                              'SIGLE correlated': VN_misspe ,\n",
    "                              'Logistic unconditional Fisher statistic' :  VN_fisher\n",
    "                              }\n",
    "              }\n",
    "centers =     {'saturated' : {'SIGLE'        : barpi,\n",
    "                              'SIGLE correlated': barpi,\n",
    "                              'Logistic unconditional Fisher statistic' : signull,\n",
    "                              'Linear conditional covariance statistic'  : barpi,\n",
    "                              'Linear unconditional covariance statistic': signull\n",
    "                             },\n",
    "               'selected'  : {'SIGLE'  : tildetheta,\n",
    "                              'SIGLE correlated': tildetheta,\n",
    "                              'Logistic unconditional Fisher statistic':  thetanull[model.M]\n",
    "                             }\n",
    "              }"
   ]
  },
  {
   "cell_type": "markdown",
   "id": "80d7dbcd",
   "metadata": {},
   "source": [
    "# Saturated model"
   ]
  },
  {
   "cell_type": "code",
   "execution_count": 22,
   "id": "b641fae3",
   "metadata": {},
   "outputs": [
    {
     "data": {
      "application/vnd.jupyter.widget-view+json": {
       "model_id": "c4db38373bad4f4181b2dd5dd24de2aa",
       "version_major": 2,
       "version_minor": 0
      },
      "text/plain": [
       "  0%|          | 0/264 [00:00<?, ?it/s]"
      ]
     },
     "metadata": {},
     "output_type": "display_data"
    },
    {
     "data": {
      "application/vnd.jupyter.widget-view+json": {
       "model_id": "5903fa8802c447ea99508b3067dd8e07",
       "version_major": 2,
       "version_minor": 0
      },
      "text/plain": [
       "  0%|          | 0/228 [00:00<?, ?it/s]"
      ]
     },
     "metadata": {},
     "output_type": "display_data"
    },
    {
     "data": {
      "application/vnd.jupyter.widget-view+json": {
       "model_id": "61e1431e2d624c40813993670ce18a28",
       "version_major": 2,
       "version_minor": 0
      },
      "text/plain": [
       "  0%|          | 0/264 [00:00<?, ?it/s]"
      ]
     },
     "metadata": {},
     "output_type": "display_data"
    },
    {
     "data": {
      "application/vnd.jupyter.widget-view+json": {
       "model_id": "ef9c64ef0e544e7fa45f250ef2a932aa",
       "version_major": 2,
       "version_minor": 0
      },
      "text/plain": [
       "  0%|          | 0/228 [00:00<?, ?it/s]"
      ]
     },
     "metadata": {},
     "output_type": "display_data"
    },
    {
     "data": {
      "application/vnd.jupyter.widget-view+json": {
       "model_id": "2b7b1dc4e61d4abcbf924fe0ee885f55",
       "version_major": 2,
       "version_minor": 0
      },
      "text/plain": [
       "  0%|          | 0/264 [00:00<?, ?it/s]"
      ]
     },
     "metadata": {},
     "output_type": "display_data"
    },
    {
     "data": {
      "application/vnd.jupyter.widget-view+json": {
       "model_id": "f8ac82afe50d41d48a053b1c754c0b9a",
       "version_major": 2,
       "version_minor": 0
      },
      "text/plain": [
       "  0%|          | 0/228 [00:00<?, ?it/s]"
      ]
     },
     "metadata": {},
     "output_type": "display_data"
    },
    {
     "data": {
      "application/vnd.jupyter.widget-view+json": {
       "model_id": "ccc5eeb30dd248bcb901586d55b37483",
       "version_major": 2,
       "version_minor": 0
      },
      "text/plain": [
       "  0%|          | 0/264 [00:00<?, ?it/s]"
      ]
     },
     "metadata": {},
     "output_type": "display_data"
    },
    {
     "data": {
      "application/vnd.jupyter.widget-view+json": {
       "model_id": "05b05ab021404659a42b1dfd20b03c08",
       "version_major": 2,
       "version_minor": 0
      },
      "text/plain": [
       "  0%|          | 0/228 [00:00<?, ?it/s]"
      ]
     },
     "metadata": {},
     "output_type": "display_data"
    },
    {
     "data": {
      "application/vnd.jupyter.widget-view+json": {
       "model_id": "85de35b8fbde45d78466203297f0e1cf",
       "version_major": 2,
       "version_minor": 0
      },
      "text/plain": [
       "  0%|          | 0/264 [00:00<?, ?it/s]"
      ]
     },
     "metadata": {},
     "output_type": "display_data"
    },
    {
     "data": {
      "application/vnd.jupyter.widget-view+json": {
       "model_id": "022ec299b7ca4c068987ee0bfd5d700c",
       "version_major": 2,
       "version_minor": 0
      },
      "text/plain": [
       "  0%|          | 0/228 [00:00<?, ?it/s]"
      ]
     },
     "metadata": {},
     "output_type": "display_data"
    },
    {
     "data": {
      "image/png": "[encoded data removed]",
      "text/plain": [
       "<Figure size 432x288 with 1 Axes>"
      ]
     },
     "metadata": {
      "needs_background": "light"
     },
     "output_type": "display_data"
    }
   ],
   "source": [
    "ls_modes_sat = [key for key in covariances['saturated'].keys()]\n",
    "\n",
    "lists_pvalues_sat = []\n",
    "for mode in ls_modes_sat:\n",
    "    center_sat = centers['saturated'][mode]\n",
    "    cov_sat = covariances['saturated'][mode]\n",
    "    lspvals_sat = model.pval_alt_SIGLE_sat(states, center_sat, cov_sat, l2_regularization=100000, statesnull=statesnull, signull=signull)\n",
    "    lists_pvalues_sat += [lspvals_sat]\n",
    "\n",
    "model.plot_cdf_pvalues(lists_pvalues_sat, ls_modes_sat, states = states, legend_outfig=True, sigalt=model.sig)"
   ]
  },
  {
   "cell_type": "markdown",
   "id": "59af0f35",
   "metadata": {},
   "source": [
    "# Selected model"
   ]
  },
  {
   "cell_type": "code",
   "execution_count": 23,
   "id": "ee025012",
   "metadata": {},
   "outputs": [
    {
     "data": {
      "application/vnd.jupyter.widget-view+json": {
       "model_id": "e6c2ee6bfcc94170b3ec887ea5f1dd20",
       "version_major": 2,
       "version_minor": 0
      },
      "text/plain": [
       "  0%|          | 0/264 [00:00<?, ?it/s]"
      ]
     },
     "metadata": {},
     "output_type": "display_data"
    },
    {
     "data": {
      "application/vnd.jupyter.widget-view+json": {
       "model_id": "82db8e7c9e6c4fca998ee1a7622c5fe2",
       "version_major": 2,
       "version_minor": 0
      },
      "text/plain": [
       "  0%|          | 0/228 [00:00<?, ?it/s]"
      ]
     },
     "metadata": {},
     "output_type": "display_data"
    },
    {
     "data": {
      "application/vnd.jupyter.widget-view+json": {
       "model_id": "06ee4a681ce84a299857136ca8821f0c",
       "version_major": 2,
       "version_minor": 0
      },
      "text/plain": [
       "  0%|          | 0/264 [00:00<?, ?it/s]"
      ]
     },
     "metadata": {},
     "output_type": "display_data"
    },
    {
     "data": {
      "application/vnd.jupyter.widget-view+json": {
       "model_id": "71e0e472b70d42f4ba460bae43f5fa24",
       "version_major": 2,
       "version_minor": 0
      },
      "text/plain": [
       "  0%|          | 0/228 [00:00<?, ?it/s]"
      ]
     },
     "metadata": {},
     "output_type": "display_data"
    },
    {
     "data": {
      "application/vnd.jupyter.widget-view+json": {
       "model_id": "506947971762490f96f5473f50390fa1",
       "version_major": 2,
       "version_minor": 0
      },
      "text/plain": [
       "  0%|          | 0/264 [00:00<?, ?it/s]"
      ]
     },
     "metadata": {},
     "output_type": "display_data"
    },
    {
     "data": {
      "application/vnd.jupyter.widget-view+json": {
       "model_id": "65a0f0eb0d0c4928b0b9db9b988c5f14",
       "version_major": 2,
       "version_minor": 0
      },
      "text/plain": [
       "  0%|          | 0/228 [00:00<?, ?it/s]"
      ]
     },
     "metadata": {},
     "output_type": "display_data"
    },
    {
     "data": {
      "image/png": "[encoded data removed]",
      "text/plain": [
       "<Figure size 432x288 with 1 Axes>"
      ]
     },
     "metadata": {
      "needs_background": "light"
     },
     "output_type": "display_data"
    }
   ],
   "source": [
    "ls_modes_sel = [key for key in covariances['selected'].keys()]\n",
    "\n",
    "lists_pvalues_sel = []\n",
    "for mode in ls_modes_sel:\n",
    "    center_sel = centers['selected'][mode]\n",
    "    cov_sel = covariances['selected'][mode]\n",
    "    lspvals_sel = model.pval_alt_SIGLE_sel(states, center_sel, cov_sel, l2_regularization=100000, statesnull=statesnull, signull=signull)\n",
    "    lists_pvalues_sel += [lspvals_sel]\n",
    "\n",
    "model.plot_cdf_pvalues(lists_pvalues_sel, ls_modes_sel, states = states, legend_outfig=True, sigalt=model.sig)"
   ]
  },
  {
   "cell_type": "markdown",
   "id": "51225b01",
   "metadata": {},
   "source": [
    "# Comparison with the $\\chi^2$ distribution"
   ]
  },
  {
   "cell_type": "code",
   "execution_count": 24,
   "id": "a6a1b36d",
   "metadata": {},
   "outputs": [
    {
     "name": "stderr",
     "output_type": "stream",
     "text": [
      "/tmp/ipykernel_11480/1037124601.py:14: DeprecationWarning: `np.float` is a deprecated alias for the builtin `float`. To silence this warning, use `float` by itself. Doing this will not modify any behavior and is safe. If you specifically wanted the numpy scalar type, use `np.float64` here.\n",
      "Deprecated in NumPy 1.20; for more details and guidance: https://numpy.org/devdocs/release/1.20.0-notes.html#deprecations\n",
      "  mini = np.float('inf')\n"
     ]
    },
    {
     "data": {
      "image/png": "[encoded data removed]",
      "text/plain": [
       "<Figure size 432x288 with 1 Axes>"
      ]
     },
     "metadata": {
      "needs_background": "light"
     },
     "output_type": "display_data"
    }
   ],
   "source": [
    "import numpy as np\n",
    "import pylab\n",
    "import scipy.stats as stats\n",
    "mode = 'SIGLE'\n",
    "center_sat = centers['saturated'][mode]\n",
    "cov_sat = covariances['saturated'][mode]\n",
    "\n",
    "lsstatnull_sat = []\n",
    "for i in range(len(statesnull)):\n",
    "    y = np.array(statesnull[i])\n",
    "    stat = np.linalg.norm( cov_sat @ (y-center_sat))**2\n",
    "    lsstatnull_sat.append(stat)\n",
    "\n",
    "mini = np.float('inf')\n",
    "optdf = 0\n",
    "for df in np.arange(2,50,1):\n",
    "    qq = stats.probplot(lsstatnull_sat, dist=stats.chi2, sparams=(df,))\n",
    "    norm = np.linalg.norm(qq[0][0]-qq[0][1])\n",
    "    if norm<mini:\n",
    "        optdf = df\n",
    "        mini = norm\n",
    "\n",
    "\n",
    "fig = plt.figure()\n",
    "ax = fig.add_subplot(111)\n",
    "#df = np.mean(lsstatnull_sat) #len(model.M)\n",
    "#print(df, model.M)\n",
    "qq = stats.probplot(lsstatnull_sat, dist=stats.chi2, sparams=(optdf,), plot=ax)\n",
    "#plt.axis('square')\n",
    "ax.set_xlim([1, 27])\n",
    "ax.set_ylim([1, 27])\n",
    "\n",
    "#plt.savefig('quantiles_sat_'+mode+'.png', dpi=250)\n",
    "plt.show()"
   ]
  },
  {
   "cell_type": "code",
   "execution_count": 11,
   "id": "481d6f4c",
   "metadata": {},
   "outputs": [
    {
     "name": "stderr",
     "output_type": "stream",
     "text": [
      "/home/duchemin/anaconda3/lib/python3.9/site-packages/seaborn/distributions.py:2619: FutureWarning: `distplot` is a deprecated function and will be removed in a future version. Please adapt your code to use either `displot` (a figure-level function with similar flexibility) or `kdeplot` (an axes-level function for kernel density plots).\n",
      "  warnings.warn(msg, FutureWarning)\n",
      "/home/duchemin/anaconda3/lib/python3.9/site-packages/seaborn/distributions.py:2619: FutureWarning: `distplot` is a deprecated function and will be removed in a future version. Please adapt your code to use either `displot` (a figure-level function with similar flexibility) or `kdeplot` (an axes-level function for kernel density plots).\n",
      "  warnings.warn(msg, FutureWarning)\n"
     ]
    },
    {
     "data": {
      "image/png": "[encoded data removed]",
      "text/plain": [
       "<Figure size 432x288 with 1 Axes>"
      ]
     },
     "metadata": {
      "needs_background": "light"
     },
     "output_type": "display_data"
    }
   ],
   "source": [
    "import seaborn as sns\n",
    "sns.distplot(lsstatnull_sat, hist = False, kde = True,\n",
    "                 kde_kws = {'linewidth': 3},\n",
    "                 label = 'SIGLE statistic pdf')\n",
    "chi2 = stats.chi2.rvs(optdf, size=10000)\n",
    "sns.distplot(chi2, hist = False, kde = True,\n",
    "                 kde_kws = {'linewidth': 3, 'linestyle':'--'},\n",
    "                 label = '$\\chi^2({0})$ pdf'.format(optdf))\n",
    "plt.legend(fontsize=13)\n",
    "plt.ylabel('Density', fontsize=13)\n",
    "plt.savefig('PDFs_sigle_vs_chi2_nu04.png', dpi=250)"
   ]
  },
  {
   "cell_type": "code",
   "execution_count": null,
   "id": "81730da8",
   "metadata": {},
   "outputs": [],
   "source": []
  }
 ],
 "metadata": {
  "kernelspec": {
   "display_name": "Python 3 (ipykernel)",
   "language": "python",
   "name": "python3"
  },
  "language_info": {
   "codemirror_mode": {
    "name": "ipython",
    "version": 3
   },
   "file_extension": ".py",
   "mimetype": "text/x-python",
   "name": "python",
   "nbconvert_exporter": "python",
   "pygments_lexer": "ipython3",
   "version": "3.9.12"
  }
 },
 "nbformat": 4,
 "nbformat_minor": 5
}
