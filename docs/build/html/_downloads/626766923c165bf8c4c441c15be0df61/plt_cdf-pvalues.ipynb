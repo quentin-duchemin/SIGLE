{
  "cells": [
    {
      "cell_type": "code",
      "execution_count": null,
      "metadata": {
        "collapsed": false
      },
      "outputs": [],
      "source": [
        "%matplotlib inline"
      ]
    },
    {
      "cell_type": "markdown",
      "metadata": {},
      "source": [
        "\n# CDF of p-values\nThe example shows the cumulative disribution function (CDF) of the p-values of different post-selection inference methods for a composite hypothesis testing problem with a global null.\n"
      ]
    },
    {
      "cell_type": "code",
      "execution_count": null,
      "metadata": {
        "collapsed": false
      },
      "outputs": [],
      "source": [
        "import PSILOGIT\nimport numpy as np\nfrom PSILOGIT.tools import *\nfrom sklearn.linear_model import LogisticRegression, LogisticRegressionCV\nimport matplotlib.pyplot as plt"
      ]
    },
    {
      "cell_type": "markdown",
      "metadata": {},
      "source": [
        "Choice of the signal strength\n\n"
      ]
    },
    {
      "cell_type": "code",
      "execution_count": null,
      "metadata": {
        "collapsed": false
      },
      "outputs": [],
      "source": [
        "nu = 0.1"
      ]
    },
    {
      "cell_type": "markdown",
      "metadata": {},
      "source": [
        "Choice of the type of alternative (localized or disseminated)\n\n"
      ]
    },
    {
      "cell_type": "code",
      "execution_count": null,
      "metadata": {
        "collapsed": false
      },
      "outputs": [],
      "source": [
        "modes = ['disseminated-signal' ,'localized-signal']\nmode = modes[0]"
      ]
    },
    {
      "cell_type": "markdown",
      "metadata": {},
      "source": [
        "Choice of the number of steps for the rejection sampling method\n\n"
      ]
    },
    {
      "cell_type": "code",
      "execution_count": null,
      "metadata": {
        "collapsed": false
      },
      "outputs": [],
      "source": [
        "nb_ite = 100000"
      ]
    },
    {
      "cell_type": "markdown",
      "metadata": {},
      "source": [
        "Definition of the experiment.\n\n"
      ]
    },
    {
      "cell_type": "code",
      "execution_count": null,
      "metadata": {
        "collapsed": false
      },
      "outputs": [],
      "source": [
        "if mode=='localized-signal':\n    vartheta = np.zeros(10)\n    vartheta[0] = nu\nelse:\n    vartheta = nu*np.ones(10)\n\nmodel = PSILOGIT.PSILOGIT(truetheta=vartheta, regularization=2, n=100, p=10)\nprint('Size of the set of active variables: ', len(model.M))"
      ]
    },
    {
      "cell_type": "markdown",
      "metadata": {},
      "source": [
        "Sampling states according to the conditional distribution using the rejection sampling method.\n\n"
      ]
    },
    {
      "cell_type": "code",
      "execution_count": null,
      "metadata": {
        "collapsed": false
      },
      "outputs": [],
      "source": [
        "states = model.SEI_by_sampling(model.sig, nb_ite=nb_ite)"
      ]
    },
    {
      "cell_type": "markdown",
      "metadata": {},
      "source": [
        "Sampling states according to the conditional distribution using the rejection sampling method **under the global null**.\n\n"
      ]
    },
    {
      "cell_type": "code",
      "execution_count": null,
      "metadata": {
        "collapsed": false
      },
      "outputs": [],
      "source": [
        "thetanull = np.zeros(model.X.shape[1])\nsignull = sigmoid(model.X @ thetanull)\nif np.max(np.abs(signull-model.sig))<1e-3:\n    statesnull = np.copy(states)\nelse:\n    statesnull = model.SEI_by_sampling(signull, nb_ite=nb_ite)"
      ]
    },
    {
      "cell_type": "markdown",
      "metadata": {},
      "source": [
        "## p-values for the SIGLE procedures\n\n"
      ]
    },
    {
      "cell_type": "code",
      "execution_count": null,
      "metadata": {
        "collapsed": false
      },
      "outputs": [],
      "source": [
        "tildeGN12, barpi = model.params_saturated(signull, statesnull)\nlspvals_selec, lspvals_sat, gaps = model.pval_SIGLE(states, barpi, l2_regularization=100000, grad_descent={'lr':0.01,'return_gaps':True,'max_ite':10000}, calibrated_from_samples=True, statesnull=statesnull)"
      ]
    },
    {
      "cell_type": "markdown",
      "metadata": {},
      "source": [
        "## p-values for the procedures derived from the work of Taylor & Tibshirani\n\n"
      ]
    },
    {
      "cell_type": "code",
      "execution_count": null,
      "metadata": {
        "collapsed": false
      },
      "outputs": [],
      "source": [
        "gamma = np.zeros(len(model.M))\ngamma[0] = 1\nlspvals_tay_1 = model.pval_taylor(states, thetanull=thetanull, gamma=gamma)\nlspvals_tay_Bon = model.pval_taylor(states, thetanull=thetanull, mode='Bonferroni')"
      ]
    },
    {
      "cell_type": "markdown",
      "metadata": {},
      "source": [
        "## p-values for the weak learner\n\n"
      ]
    },
    {
      "cell_type": "code",
      "execution_count": null,
      "metadata": {
        "collapsed": false
      },
      "outputs": [],
      "source": [
        "lspvals_naive = model.pval_weak_learner(statesnull, states, barpi, signull=signull)"
      ]
    },
    {
      "cell_type": "markdown",
      "metadata": {},
      "source": [
        "## CDF of pvalues\n\n"
      ]
    },
    {
      "cell_type": "code",
      "execution_count": null,
      "metadata": {
        "collapsed": false
      },
      "outputs": [],
      "source": [
        "lists_pvalues = [lspvals_naive, lspvals_tay_1, lspvals_tay_Bon, lspvals_selec, lspvals_sat]\nnames = ['Weak learner', \"TT-1\", 'TT-Bonferroni', 'SIGLE Selected', 'SIGLE Saturated']\nmodel.plot_cdf_pvalues(lists_pvalues, names, states = states, sigalt=model.sig)\nplt.show()"
      ]
    }
  ],
  "metadata": {
    "kernelspec": {
      "display_name": "Python 3",
      "language": "python",
      "name": "python3"
    },
    "language_info": {
      "codemirror_mode": {
        "name": "ipython",
        "version": 3
      },
      "file_extension": ".py",
      "mimetype": "text/x-python",
      "name": "python",
      "nbconvert_exporter": "python",
      "pygments_lexer": "ipython3",
      "version": "3.9.7"
    }
  },
  "nbformat": 4,
  "nbformat_minor": 0
}