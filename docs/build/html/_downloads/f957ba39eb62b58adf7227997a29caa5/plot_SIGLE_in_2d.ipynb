{
  "cells": [
    {
      "cell_type": "code",
      "execution_count": null,
      "metadata": {
        "collapsed": false
      },
      "outputs": [],
      "source": [
        "%matplotlib inline"
      ]
    },
    {
      "cell_type": "markdown",
      "metadata": {},
      "source": [
        "\n# Visualization of SIGLE in the selected model\nThe example shows the way SIGLE works for a composite hypothesis testing problem where working with the global null.\n"
      ]
    },
    {
      "cell_type": "code",
      "execution_count": null,
      "metadata": {
        "collapsed": false
      },
      "outputs": [],
      "source": [
        "import PSILOGIT\nimport numpy as np\nfrom PSILOGIT.tools import *\nfrom sklearn.linear_model import LogisticRegression, LogisticRegressionCV\nimport matplotlib.pyplot as plt"
      ]
    },
    {
      "cell_type": "markdown",
      "metadata": {},
      "source": [
        "We will consider toy examples for which the selected support is of size $2$. This will allow us to visualize the way SIGLE works in the plane.\n\n"
      ]
    },
    {
      "cell_type": "markdown",
      "metadata": {},
      "source": [
        "## SIGLE in the selected model under the global null\n\nWe work first under the global null and we show that SIGLE is correctly calibrated. This was expected since we calibrate SIGLE by sampling under the null using the rejection sampling method.\n\n"
      ]
    },
    {
      "cell_type": "code",
      "execution_count": null,
      "metadata": {
        "collapsed": false
      },
      "outputs": [],
      "source": [
        "model_size2 = PSILOGIT.PSILOGIT(truetheta=0*np.ones(5), regularization=7, n=100, p=5)\nprint('Size of the selection event: ', len(model_size2.M))\nsignull = 0.5 * np.ones(model_size2.X.shape[0])\nstates2 = model_size2.SEI_by_sampling(model_size2.sig, nb_ite=100000)\nprint(len(states2))\nstatesnull = model_size2.SEI_by_sampling(signull, nb_ite=100000)\ntildeGN12, barpi = model_size2.params_saturated(signull, statesnull)\nmodel_size2.ellipse_testing(states2, barpi, alpha=0.05, grad_descent={'lr':0.01,'return_gaps':True,'max_ite':5000}, calibrated_from_samples=True, statesnull=statesnull, l2_regularization=100000)"
      ]
    },
    {
      "cell_type": "markdown",
      "metadata": {},
      "source": [
        "## SIGLE in the selected model with a localized alternative\n\nWe work under the localized alternative $\\\\vartheta^*=[1 ,0,0,\\dots,0] \\in \\mathbb R^{10}$.\n\n"
      ]
    },
    {
      "cell_type": "code",
      "execution_count": null,
      "metadata": {
        "collapsed": false
      },
      "outputs": [],
      "source": [
        "theta = np.zeros(10)\ntheta[0] = 0.5\nmodel_size2 = PSILOGIT.PSILOGIT(truetheta=theta, regularization=8, n=100, p=len(theta))\nprint('Size of the selection event: ', len(model_size2.M))\nstates2 = model_size2.SEI_by_sampling(model_size2.sig, nb_ite=100000)\nprint(len(states2))\nstatesnull = model_size2.SEI_by_sampling(signull, nb_ite=100000)\ntildeGN12, barpi = model_size2.params_saturated(signull, statesnull)\nmodel_size2.ellipse_testing(states2, barpi, alpha=0.05, grad_descent={'lr':0.01,'return_gaps':True,'max_ite':5000}, calibrated_from_samples=True, statesnull=statesnull, l2_regularization=100000)"
      ]
    }
  ],
  "metadata": {
    "kernelspec": {
      "display_name": "Python 3",
      "language": "python",
      "name": "python3"
    },
    "language_info": {
      "codemirror_mode": {
        "name": "ipython",
        "version": 3
      },
      "file_extension": ".py",
      "mimetype": "text/x-python",
      "name": "python",
      "nbconvert_exporter": "python",
      "pygments_lexer": "ipython3",
      "version": "3.9.7"
    }
  },
  "nbformat": 4,
  "nbformat_minor": 0
}