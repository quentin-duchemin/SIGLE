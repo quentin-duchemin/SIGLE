{
 "cells": [
  {
   "cell_type": "markdown",
   "id": "d0af2952",
   "metadata": {},
   "source": [
    "# SIGLE: Selective Inference in Generalized Linear models through conditional MLE\n",
    "# The case of the Sparse Logistic Regression\n",
    "\n",
    "\n",
    "### Authors: Quentin Duchemin & Yohann De Castro"
   ]
  },
  {
   "cell_type": "code",
   "execution_count": 1,
   "id": "0053007c",
   "metadata": {},
   "outputs": [],
   "source": [
    "import numpy as np\n",
    "import matplotlib.pyplot as plt\n",
    "from scipy.integrate import odeint\n",
    "from sklearn.linear_model import LinearRegression\n",
    "from sklearn.linear_model import LogisticRegression, LogisticRegressionCV\n",
    "from inverse_map import inverse_map, train_network\n",
    "import torch\n",
    "import scipy\n",
    "import scipy as sc\n",
    "import scipy.stats\n",
    "from PSIGLL import *"
   ]
  },
  {
   "cell_type": "markdown",
   "id": "79775a16",
   "metadata": {},
   "source": [
    "# I) SEI-SLR"
   ]
  },
  {
   "cell_type": "code",
   "execution_count": null,
   "id": "984dda43",
   "metadata": {},
   "outputs": [],
   "source": [
    "n,p = 11,10\n",
    "X = np.random.normal(0,1,(n,p))\n",
    "X /= np.tile(np.linalg.norm(X,axis=0),(n,1))\n",
    "theta = np.zeros(p)\n",
    "theta[:2] = [1,1]\n",
    "def logtemp(x):\n",
    "    return (0.4/np.log(x))\n",
    "nb_expe = 1\n",
    "\n",
    "settings= [{'n':n,\n",
    "            'p':p,\n",
    "            'X':X,\n",
    "            'theta':theta,\n",
    "            'cross_val':False,\n",
    "            'lamb':0.6,\n",
    "            'temperature':logtemp, \n",
    "            'nb_expe':nb_expe, \n",
    "            'file':'test/'}]\n",
    "\n",
    "SEI_SLR(settings=10*settings, conditioning_signs=False, total_length_SEISLR_path=1500,compute_pvalues=False)"
   ]
  },
  {
   "cell_type": "code",
   "execution_count": null,
   "id": "c568f2d0",
   "metadata": {},
   "outputs": [],
   "source": [
    "path = 'test/'\n",
    "\n",
    "# Finding all the saved experiments\n",
    "from os import listdir\n",
    "from os.path import isfile, join\n",
    "onlyfiles = [f for f in listdir(path) if isfile(join(path, f))]\n",
    "indexes = []\n",
    "for file in onlyfiles:\n",
    "    if file[:6]=='last_y':\n",
    "        indexes.append(file[6:-4])\n",
    "print('Total of number of simulated annealing:', len(indexes))"
   ]
  },
  {
   "cell_type": "markdown",
   "id": "f0b603b6",
   "metadata": {},
   "source": [
    "### 1) Visualization of results"
   ]
  },
  {
   "cell_type": "code",
   "execution_count": null,
   "id": "7431d3e5",
   "metadata": {},
   "outputs": [],
   "source": [
    "index = indexes[1]\n",
    "\n",
    "M = np.load(path+index+'M.npy')\n",
    "X = np.load(path+index+'X.npy')\n",
    "lamb = np.load(path+index+'lamb.npy')[0]\n",
    "theta_obs = np.load(path+index+'theta_obs.npy')\n",
    "sig = np.load(path+index+'sig.npy')\n",
    "yobs = np.load(path+index+'yobs.npy')\n",
    "if n<=17:\n",
    "    bnM_admi, ls_states_admissibles = compute_selection_event(theta_obs,X,yobs,lamb,conditioning_signs=False)\n",
    "else:\n",
    "    ls_states_admissibles = SEI_by_sampling(sig, X, lamb, M)"
   ]
  },
  {
   "cell_type": "code",
   "execution_count": null,
   "id": "d362531b",
   "metadata": {},
   "outputs": [],
   "source": [
    "last_visited_states(indexes,path,ls_states_admissibles)"
   ]
  },
  {
   "cell_type": "code",
   "execution_count": null,
   "id": "67094850",
   "metadata": {},
   "outputs": [],
   "source": [
    "histo_time_in_selection_event(indexes, path, ls_states_admissibles)"
   ]
  },
  {
   "cell_type": "code",
   "execution_count": null,
   "id": "67ce4abb",
   "metadata": {},
   "outputs": [],
   "source": [
    "time_in_selection_event(indexes, path, ls_states_admissibles)"
   ]
  },
  {
   "cell_type": "code",
   "execution_count": null,
   "id": "225ce226",
   "metadata": {},
   "outputs": [],
   "source": [
    "ls_FNR = np.load('test/FNR'+index+'.npy')\n",
    "hist = plt.hist(ls_FNR,density=True)\n",
    "plt.ylabel('')\n",
    "plt.xlabel('False Negative Rate for the last visited states', fontsize=13)\n",
    "plt.show()"
   ]
  },
  {
   "cell_type": "markdown",
   "id": "f687ba74",
   "metadata": {},
   "source": [
    "# II) CDF of P-values"
   ]
  },
  {
   "cell_type": "markdown",
   "id": "bb659e65",
   "metadata": {},
   "source": [
    "##### Data"
   ]
  },
  {
   "cell_type": "code",
   "execution_count": 2,
   "id": "1c6891c7",
   "metadata": {},
   "outputs": [
    {
     "name": "stdout",
     "output_type": "stream",
     "text": [
      "Selected support:  [0 1 2 3 4 5 7 8 9]\n",
      "Size selected support:  9\n"
     ]
    }
   ],
   "source": [
    "n,p = 400,10\n",
    "lamb = 2\n",
    "\n",
    "d = 2\n",
    "theta = 0*np.ones(d)\n",
    "truetheta = np.zeros(p)\n",
    "truetheta[:d] = theta\n",
    "\n",
    "np.random.seed(1)\n",
    "\n",
    "rescale = 2*np.sqrt(n)/p\n",
    "X = rescale * np.random.normal(0,1,(n,p))\n",
    "#X /= np.tile(np.linalg.norm(X,axis=0),(n,1))\n",
    "matXtrue = X[:,:d]\n",
    "\n",
    "sig = sigmoid(matXtrue @ theta)\n",
    "yobs = np.random.rand(n) <= sig\n",
    "model = LogisticRegression(C = 1/lamb, penalty='l1', solver='liblinear', fit_intercept=False)\n",
    "model.fit(X, yobs)\n",
    "theta_obs = model.coef_[0]\n",
    "M = np.where( np.abs(theta_obs) > 1e-5)[0]\n",
    "print('Selected support: ', M)\n",
    "print('Size selected support: ', len(M))\n",
    "\n",
    "\n",
    "# definition of the null distribution\n",
    "thetanull = np.zeros(p)\n",
    "signull = sigmoid(X @ thetanull)"
   ]
  },
  {
   "cell_type": "markdown",
   "id": "fde1c5ce",
   "metadata": {},
   "source": [
    "### <span style=\"color:red\">SEI by sampling ?</span>\n",
    "Set *SEI_sampling* to *True* in order to approximate the selection event by sampling. Otherwise, the full state space will be visited to compute exactly the selection event. \n",
    "\n",
    "If $n\\geq17$, *SEI_sampling* should be set to *True* to avoid computational issue."
   ]
  },
  {
   "cell_type": "code",
   "execution_count": 10,
   "id": "1cefb66a",
   "metadata": {
    "scrolled": true
   },
   "outputs": [
    {
     "data": {
      "application/vnd.jupyter.widget-view+json": {
       "model_id": "ec54aa2543144fb28ef3146acf5b8fdc",
       "version_major": 2,
       "version_minor": 0
      },
      "text/plain": [
       "HBox(children=(HTML(value=''), FloatProgress(value=0.0, max=10000000.0), HTML(value='')))"
      ]
     },
     "metadata": {},
     "output_type": "display_data"
    },
    {
     "name": "stdout",
     "output_type": "stream",
     "text": [
      "\n",
      "Number of states in the selection event:  264741\n"
     ]
    }
   ],
   "source": [
    "SEI_sampling = True\n",
    "if SEI_sampling:\n",
    "    states = SEI_by_sampling(sig, X, lamb, M, nb_ite=10000000)\n",
    "    if (np.abs(signull - sig)>1e-3).any():\n",
    "        statesnull = SEI_by_sampling(signull, X, lamb, M, nb_ite=10000000)\n",
    "    else:\n",
    "        statesnull = np.copy(states)\n",
    "else:\n",
    "    probasalt, EM_states = true_conditional_distribution(theta_obs,X,yobs,lamb,truetheta,conditioning_signs=False)\n",
    "    probasnull, EM_statesnull = true_conditional_distribution(theta_obs,X,yobs,lamb,thetanull,conditioning_signs=False,states=EM_states)\n",
    "    idxs = np.random.choice([i for i in range(len(EM_states))], size=3000, p=probasalt)\n",
    "    states = [EM_states[i] for i in idxs]\n",
    "    idxs_null = np.random.choice([i for i in range(len(EM_statesnull))], size=3000, p=probasnull)\n",
    "    statesnull = [EM_statesnull[i] for i in idxs_null]\n",
    "print('Number of states in the selection event: ', len(states))"
   ]
  },
  {
   "cell_type": "markdown",
   "id": "24e4f537",
   "metadata": {},
   "source": [
    "##### Computing $\\bar \\pi ^{\\pi ^0}$ and training the NN aiming at computing $\\Psi=\\Xi^{-1}$"
   ]
  },
  {
   "cell_type": "code",
   "execution_count": 16,
   "id": "908c8b6f",
   "metadata": {},
   "outputs": [
    {
     "data": {
      "application/vnd.jupyter.widget-view+json": {
       "model_id": "ca219157a45a41a18dabd7b2d14ecd36",
       "version_major": 2,
       "version_minor": 0
      },
      "text/plain": [
       "HBox(children=(HTML(value=''), FloatProgress(value=0.0, max=264741.0), HTML(value='')))"
      ]
     },
     "metadata": {},
     "output_type": "display_data"
    },
    {
     "name": "stdout",
     "output_type": "stream",
     "text": [
      "\n"
     ]
    }
   ],
   "source": [
    "n,p = np.shape(X)\n",
    "matXtrue = X[:,M]\n",
    "tildeGN_12, barpi = params_saturated(signull, matXtrue, statesnull)\n",
    "net, loss_values = train_network(matXtrue/rescale**2,max(1,truetheta[0]),nb_epochs=700,lrstart=0.1,lrdecay_step=80)"
   ]
  },
  {
   "cell_type": "code",
   "execution_count": 9,
   "id": "545e331d",
   "metadata": {},
   "outputs": [
    {
     "name": "stdout",
     "output_type": "stream",
     "text": [
      "Coarse Upper bound (Theorem statement):  22.924911193468823\n",
      "Upper bound (weaker requirement obtained in the proof):  0.5619621584688944\n",
      "-> Both should tend to 0 as n grows.\n"
     ]
    }
   ],
   "source": [
    "coarse_upper_bound, upper_bound = upper_bound_condition_CCLT(states,X,barpi,tildeGN_12,M)\n",
    "print(\"Coarse Upper bound (Theorem statement): \", coarse_upper_bound)\n",
    "print(\"Upper bound (weaker requirement obtained in the proof): \", upper_bound)\n",
    "print(\"-> Both should tend to 0 as n grows.\")"
   ]
  },
  {
   "cell_type": "markdown",
   "id": "c4ea1291",
   "metadata": {},
   "source": [
    "##### P-values from the weak learner"
   ]
  },
  {
   "cell_type": "code",
   "execution_count": 12,
   "id": "21dbb445",
   "metadata": {},
   "outputs": [
    {
     "data": {
      "application/vnd.jupyter.widget-view+json": {
       "model_id": "c15bcf39bbd548ccb52bf0dc7ca31f0b",
       "version_major": 2,
       "version_minor": 0
      },
      "text/plain": [
       "HBox(children=(HTML(value=''), FloatProgress(value=0.0, max=264741.0), HTML(value='')))"
      ]
     },
     "metadata": {},
     "output_type": "display_data"
    },
    {
     "name": "stdout",
     "output_type": "stream",
     "text": [
      "\n"
     ]
    },
    {
     "data": {
      "application/vnd.jupyter.widget-view+json": {
       "model_id": "83e0b59c67a64f64871969e877acba4a",
       "version_major": 2,
       "version_minor": 0
      },
      "text/plain": [
       "HBox(children=(HTML(value=''), FloatProgress(value=0.0, max=264741.0), HTML(value='')))"
      ]
     },
     "metadata": {},
     "output_type": "display_data"
    },
    {
     "name": "stdout",
     "output_type": "stream",
     "text": [
      "\n"
     ]
    }
   ],
   "source": [
    "lspvals_naive = pval_weak_learner(statesnull[:10000],states[:10000],barpi)"
   ]
  },
  {
   "cell_type": "markdown",
   "id": "347412de",
   "metadata": {},
   "source": [
    "##### P-values from SIGLE"
   ]
  },
  {
   "cell_type": "code",
   "execution_count": 18,
   "id": "adddd2c3",
   "metadata": {},
   "outputs": [
    {
     "data": {
      "application/vnd.jupyter.widget-view+json": {
       "model_id": "c99d2d0c2ca6405280172349ecbe5096",
       "version_major": 2,
       "version_minor": 0
      },
      "text/plain": [
       "HBox(children=(HTML(value=''), FloatProgress(value=0.0, max=264741.0), HTML(value='')))"
      ]
     },
     "metadata": {},
     "output_type": "display_data"
    },
    {
     "name": "stdout",
     "output_type": "stream",
     "text": [
      "\n"
     ]
    }
   ],
   "source": [
    "#lspvals_selec, lspvals_sat = pval_SIGLE(states[:5000], X, M, barpi, net=None, use_net_MLE=False, l2_regularization=10000)\n",
    "lspvals_selec, lspvals_sat = pval_SIGLE_linear(states[:5000], X, M, barpi, net=None, use_net_MLE=False, l2_regularization=10000)"
   ]
  },
  {
   "cell_type": "markdown",
   "id": "bb3c13b9",
   "metadata": {},
   "source": [
    "##### P-values from Taylor & Tibshirani '18"
   ]
  },
  {
   "cell_type": "code",
   "execution_count": 130,
   "id": "ef6cebfd",
   "metadata": {},
   "outputs": [
    {
     "data": {
      "application/vnd.jupyter.widget-view+json": {
       "model_id": "76db5454dac84940990e5f4e2931a590",
       "version_major": 2,
       "version_minor": 0
      },
      "text/plain": [
       "HBox(children=(HTML(value=''), FloatProgress(value=0.0, max=264741.0), HTML(value='')))"
      ]
     },
     "metadata": {},
     "output_type": "display_data"
    },
    {
     "name": "stdout",
     "output_type": "stream",
     "text": [
      "\n"
     ]
    }
   ],
   "source": [
    "lspvals_tay = pval_taylor(states[:5000],X,lamb,M,show_distributions=False, thetanull = thetanull)"
   ]
  },
  {
   "cell_type": "markdown",
   "id": "ab1b5d9f",
   "metadata": {},
   "source": [
    "##### RESULTS"
   ]
  },
  {
   "cell_type": "code",
   "execution_count": 131,
   "id": "87a3289d",
   "metadata": {},
   "outputs": [
    {
     "data": {
      "image/png": "[encoded data removed]",
      "text/plain": [
       "<Figure size 432x288 with 1 Axes>"
      ]
     },
     "metadata": {
      "needs_background": "light"
     },
     "output_type": "display_data"
    }
   ],
   "source": [
    "lists_pvalues = [lspvals_naive, lspvals_tay, lspvals_selec, lspvals_sat]\n",
    "names = ['Weak learner', \"Taylor & Tibshirani '18\", 'SIGLE Selected', 'SIGLE Saturated']\n",
    "plot_cdf_pvalues(lists_pvalues, names, name_figsave=None)"
   ]
  },
  {
   "cell_type": "markdown",
   "id": "ce79a767",
   "metadata": {},
   "source": [
    "#### Checking the conditional CLT"
   ]
  },
  {
   "cell_type": "code",
   "execution_count": 110,
   "id": "5efc3983",
   "metadata": {},
   "outputs": [],
   "source": [
    "def monome(coors, path=None):\n",
    "    # Data\n",
    "    n,p = 15,10\n",
    "    lamb = 0.9\n",
    "    d = 2\n",
    "    theta = 0*np.ones(d)\n",
    "    truetheta = np.zeros(p)\n",
    "    truetheta[:d] = theta\n",
    "    np.random.seed(1)\n",
    "    rescale = 2*np.sqrt(n)/p\n",
    "    X = rescale * np.random.normal(0,1,(n,p))\n",
    "    matXtrue = X[:,:d]\n",
    "    sig = sigmoid(matXtrue @ theta)\n",
    "    yobs = np.random.rand(n) <= sig\n",
    "    model = LogisticRegression(C = 1/lamb, penalty='l1', solver='liblinear', fit_intercept=False)\n",
    "    model.fit(X, yobs)\n",
    "    theta_obs = model.coef_[0]\n",
    "    M = np.where( np.abs(theta_obs) > 1e-5)[0]\n",
    "    print(\"Selected support: \", M)\n",
    "\n",
    "    # Exact expectation\n",
    "    probas, states_exact = true_conditional_distribution(theta_obs,X,yobs,lamb,truetheta,conditioning_signs=False)\n",
    "\n",
    "    mean_exact = 0\n",
    "    for k,y in enumerate(states_exact):\n",
    "        mono = 1\n",
    "        for i in coors:\n",
    "            mono *= y[i]\n",
    "        mean_exact += probas[k] * mono\n",
    "    \n",
    "    list_diff = []\n",
    "    list_sizes = []   \n",
    "    if path is None:\n",
    "\n",
    "        #     list_logite = np.linspace(np.log(20000),np.log(100000),10)\n",
    "        #     list_ite = np.array([int(np.exp(el)) for el in list_logite])\n",
    "        #     for nb_ite in list_ite:\n",
    "        count = 0\n",
    "        maxcount = 0\n",
    "        while (count <= 10 and maxcount<=20):\n",
    "            nb_ite = np.random.randint(30000,200000)\n",
    "            maxcount += 1\n",
    "            states = SEI_by_sampling(sig, X, lamb, M, nb_ite=nb_ite)\n",
    "            if len(states)>5:\n",
    "                mean = 0\n",
    "                for y in states:\n",
    "                    mono = 1\n",
    "                    for i in coors:\n",
    "                        mono *= y[i]\n",
    "                    mean += mono\n",
    "                mean /= len(states)\n",
    "                list_diff.append(np.abs(mean-mean_exact))\n",
    "                list_sizes.append(len(states))\n",
    "                count += 1\n",
    "    else:\n",
    "        from os import listdir\n",
    "        from os.path import isfile, join\n",
    "        onlyfiles = [f for f in listdir(path) if isfile(join(path, f))]\n",
    "        indexes = []\n",
    "        for file in onlyfiles:\n",
    "            if file[:12]=='sampling_res':\n",
    "                indexes.append(file[12:-4])\n",
    "        for idx in indexes:\n",
    "            states = np.load(path+'sampling_res'+idx+'.npy')\n",
    "            mean = 0\n",
    "            for y in states:\n",
    "                mono = 1\n",
    "                for i in coors:\n",
    "                    mono *= y[i]\n",
    "                mean += mono\n",
    "            mean /= len(states)\n",
    "            list_diff.append(np.abs(mean-mean_exact))\n",
    "            list_sizes.append(len(states))\n",
    "    return list_diff, list_sizes"
   ]
  },
  {
   "cell_type": "code",
   "execution_count": 111,
   "id": "d4343ce8",
   "metadata": {},
   "outputs": [
    {
     "name": "stdout",
     "output_type": "stream",
     "text": [
      "Selected support:  [0 2 6 9]\n"
     ]
    }
   ],
   "source": [
    "list_diff, list_sizes = monome([1], path='parallel_sampling_res/')"
   ]
  },
  {
   "cell_type": "code",
   "execution_count": 112,
   "id": "8968daae",
   "metadata": {},
   "outputs": [
    {
     "data": {
      "image/png": "[encoded data removed]",
      "text/plain": [
       "<Figure size 432x288 with 1 Axes>"
      ]
     },
     "metadata": {
      "needs_background": "light"
     },
     "output_type": "display_data"
    }
   ],
   "source": [
    "idxs_sizes = np.argsort(list_sizes)\n",
    "lssizes = np.array([np.log(list_sizes[idxs_sizes[i]]) for i in range(len(list_sizes))])\n",
    "list_diff = np.array(list_diff)\n",
    "plt.plot(lssizes, list_diff[idxs_sizes])\n",
    "plt.xlabel('Log of the sample size')\n",
    "plt.ylabel('Error')\n",
    "plt.title('$|\\frac{1}{n_s} \\sum h(Y^c) - \\bar \\mathbb E h(Y) |$')\n",
    "plt.show()"
   ]
  },
  {
   "cell_type": "code",
   "execution_count": 113,
   "id": "891cdc78",
   "metadata": {},
   "outputs": [
    {
     "data": {
      "text/plain": [
       "[1901,\n",
       " 1923,\n",
       " 2030,\n",
       " 1945,\n",
       " 1916,\n",
       " 1999,\n",
       " 1884,\n",
       " 1920,\n",
       " 1887,\n",
       " 1940,\n",
       " 1859,\n",
       " 1975,\n",
       " 2023,\n",
       " 1884,\n",
       " 1836,\n",
       " 1921,\n",
       " 1923,\n",
       " 1868,\n",
       " 1892,\n",
       " 1934]"
      ]
     },
     "execution_count": 113,
     "metadata": {},
     "output_type": "execute_result"
    }
   ],
   "source": [
    "list_sizes"
   ]
  },
  {
   "cell_type": "code",
   "execution_count": 101,
   "id": "716e287a",
   "metadata": {},
   "outputs": [
    {
     "name": "stdout",
     "output_type": "stream",
     "text": [
      "[0, 1, 2, 3, 4, 5, 6, 7, 8, 9, 10, 11, 12, 13, 14, 15, 16, 17, 18, 19]\n"
     ]
    }
   ],
   "source": [
    "from ipyparallel import Client\n",
    "\n",
    "c = Client()\n",
    "print(c.ids)\n",
    "dview = c[:]\n",
    "import numpy as np"
   ]
  },
  {
   "cell_type": "code",
   "execution_count": 118,
   "id": "1df24269",
   "metadata": {},
   "outputs": [],
   "source": [
    "@dview.remote(block = True)\n",
    "def parallel_sampling(path):\n",
    "    import numpy as np\n",
    "    import matplotlib.pyplot as plt\n",
    "    from scipy.integrate import odeint\n",
    "    from sklearn.linear_model import LinearRegression\n",
    "    from sklearn.linear_model import LogisticRegression, LogisticRegressionCV\n",
    "    from inverse_map import inverse_map, train_network\n",
    "    import torch\n",
    "    import scipy\n",
    "    import scipy as sc\n",
    "    import scipy.stats\n",
    "\n",
    "\n",
    "    def sigmoid(u):\n",
    "        \"\"\"Sigmoid function.\"\"\"\n",
    "        return (1/(1+np.exp(-u)))\n",
    "    \n",
    "    \n",
    "    def equalset(A,B):\n",
    "        \"\"\"Checks if two sets of integers are equal.\n",
    "\n",
    "        Parameters\n",
    "        ----------\n",
    "        A, B : lists or sets of integers.\n",
    "\n",
    "        Returns\n",
    "        -------\n",
    "        A boolean which is True if and only if the sets A and B are equal.\n",
    "        \"\"\"\n",
    "        res = True\n",
    "        for a in A:\n",
    "            if a not in B:\n",
    "                res = False\n",
    "        return res\n",
    "\n",
    "    def SEI_by_sampling(sig, X, lamb, M, remove_repetitions=False, nb_ite=100000):\n",
    "        \"\"\"Computes states belonging to the selection event.\n",
    "\n",
    "        Parameters\n",
    "        ----------\n",
    "        sig : list of float\n",
    "            unconditional expectation of the response vector.\n",
    "        X : 2 dimensional matrix\n",
    "            design matrix.\n",
    "        lamb : float\n",
    "            regularization parameter for the l1-penalty.\n",
    "        M : array of integers\n",
    "            selected support.\n",
    "\n",
    "        Returns\n",
    "        -------\n",
    "        states : vectors of the hypercube belonging to the selection event.\n",
    "\n",
    "        Note\n",
    "        ----\n",
    "        Each vector appearing in the returned list is present only once. Note that the set of states returned be the algorithm might not contains all the vectors belonging to the selection event.\n",
    "        \"\"\"\n",
    "        saved_states = []\n",
    "        count = 0\n",
    "        n,p = X.shape\n",
    "        for i in range(nb_ite):\n",
    "            y = np.random.rand(n)<=sig\n",
    "            # We compute the solution of the Sparse Logistic Regression with the current 'y'\n",
    "            if np.sum(y) not in [0,n]:\n",
    "                model = LogisticRegression(penalty='l1', C = 1/lamb, solver='liblinear', fit_intercept=False)\n",
    "                model.fit(X, y)\n",
    "                theta_hat = model.coef_[0]\n",
    "                M2 = np.where( np.abs(theta_hat) > 1e-5)[0]\n",
    "                if equalset(M,M2) and (len(M)==len(M2)):\n",
    "                    saved_states.append(y)\n",
    "                    count += 1\n",
    "            if (count-1)%20==0:\n",
    "                print(count,' states in the selection event found so far')\n",
    "                count += 1\n",
    "        if remove_repetitions:\n",
    "            states = [list(item) for item in set(tuple(row) for row in saved_states)]\n",
    "        return saved_states\n",
    "    \n",
    "    n,p = 15,10\n",
    "    lamb = 1\n",
    "    d = 2\n",
    "    theta = 0*np.ones(d)\n",
    "    truetheta = np.zeros(p)\n",
    "    truetheta[:d] = theta\n",
    "    np.random.seed(1)\n",
    "    rescale = 2*np.sqrt(n)/p\n",
    "    X = rescale * np.random.normal(0,1,(n,p))\n",
    "    matXtrue = X[:,:d]\n",
    "    sig = sigmoid(matXtrue @ theta)\n",
    "    yobs = np.random.rand(n) <= sig\n",
    "    model = LogisticRegression(C = 1/lamb, penalty='l1', solver='liblinear', fit_intercept=False)\n",
    "    model.fit(X, yobs)\n",
    "    theta_obs = model.coef_[0]\n",
    "    M = np.where( np.abs(theta_obs) > 1e-5)[0]\n",
    "    print(\"Selected support: \", M)\n",
    "#     logite = np.random.uniform(np.log(3000),np.log(3000000))\n",
    "#     nb_ite = int(np.exp(logite))\n",
    "    nb_ite = np.random.randint(3000,30000)\n",
    "\n",
    "    import os\n",
    "    idjob = os.getpid()\n",
    "    np.random.seed()\n",
    "\n",
    "    states = SEI_by_sampling(sig, X, lamb, M, nb_ite=nb_ite)\n",
    "    np.save(path+'sampling_res'+str(idjob+np.random.randint(0,1000))+'.npy',states)"
   ]
  },
  {
   "cell_type": "code",
   "execution_count": 119,
   "id": "a0bebd33",
   "metadata": {},
   "outputs": [
    {
     "data": {
      "text/plain": [
       "[None,\n",
       " None,\n",
       " None,\n",
       " None,\n",
       " None,\n",
       " None,\n",
       " None,\n",
       " None,\n",
       " None,\n",
       " None,\n",
       " None,\n",
       " None,\n",
       " None,\n",
       " None,\n",
       " None,\n",
       " None,\n",
       " None,\n",
       " None,\n",
       " None,\n",
       " None]"
      ]
     },
     "execution_count": 119,
     "metadata": {},
     "output_type": "execute_result"
    }
   ],
   "source": [
    "parallel_sampling('parallel_sampling_res/')"
   ]
  },
  {
   "cell_type": "code",
   "execution_count": null,
   "id": "f4391bb7",
   "metadata": {},
   "outputs": [],
   "source": []
  },
  {
   "cell_type": "code",
   "execution_count": null,
   "id": "1c7ab249",
   "metadata": {},
   "outputs": [],
   "source": []
  },
  {
   "cell_type": "code",
   "execution_count": null,
   "id": "200915c0",
   "metadata": {},
   "outputs": [],
   "source": []
  },
  {
   "cell_type": "code",
   "execution_count": null,
   "id": "944b5aea",
   "metadata": {},
   "outputs": [],
   "source": []
  },
  {
   "cell_type": "code",
   "execution_count": null,
   "id": "398349ee",
   "metadata": {},
   "outputs": [],
   "source": []
  },
  {
   "cell_type": "code",
   "execution_count": null,
   "id": "8ada09c0",
   "metadata": {},
   "outputs": [],
   "source": []
  },
  {
   "cell_type": "code",
   "execution_count": null,
   "id": "a8b99080",
   "metadata": {},
   "outputs": [],
   "source": []
  },
  {
   "cell_type": "code",
   "execution_count": 118,
   "id": "b848c29d",
   "metadata": {},
   "outputs": [
    {
     "data": {
      "image/png": "[encoded data removed]",
      "text/plain": [
       "<Figure size 432x288 with 1 Axes>"
      ]
     },
     "metadata": {
      "needs_background": "light"
     },
     "output_type": "display_data"
    }
   ],
   "source": [
    "lists_pvalues = [lspvals_naive, lspvals_tay, lspvals_sat]\n",
    "names = ['Weak learner', \"Taylor & Tibshirani '18\", 'SIGLE Saturated']\n",
    "plot_cdf_pvalues(lists_pvalues, names, name_figsave='global_null_sat.png')"
   ]
  },
  {
   "cell_type": "markdown",
   "id": "1b54027f",
   "metadata": {},
   "source": [
    "##### Checking assumption of the Conditional CLT"
   ]
  },
  {
   "cell_type": "code",
   "execution_count": null,
   "id": "4015300b",
   "metadata": {},
   "outputs": [],
   "source": [
    "coarse_upper_bound, upper_bound = upper_bound_condition_CCLT(states,X,barpi,tildeGN_12,M)\n",
    "print(\"Coarse Upper bound (Theorem statement): \", coarse_upper_bound)\n",
    "print(\"Upper bound (weaker requirement obtained in the proof): \", upper_bound)\n",
    "print(\"-> Both should tend to 0 as n grows.\")"
   ]
  },
  {
   "cell_type": "markdown",
   "id": "4f55ca38",
   "metadata": {},
   "source": [
    "### We check that the Conditional CLT is working\n",
    "\n",
    "###### 1) Expectations of some monomes"
   ]
  },
  {
   "cell_type": "code",
   "execution_count": null,
   "id": "f9dd58b8",
   "metadata": {},
   "outputs": [],
   "source": [
    "def monome(coors, path=None):\n",
    "    # Data\n",
    "    n,p = 15,10\n",
    "    lamb = 0.9\n",
    "    d = 2\n",
    "    theta = 0*np.ones(d)\n",
    "    truetheta = np.zeros(p)\n",
    "    truetheta[:d] = theta\n",
    "    np.random.seed(1)\n",
    "    rescale = 2*np.sqrt(n)/p\n",
    "    X = rescale * np.random.normal(0,1,(n,p))\n",
    "    matXtrue = X[:,:d]\n",
    "    sig = sigmoid(matXtrue @ theta)\n",
    "    yobs = np.random.rand(n) <= sig\n",
    "    model = LogisticRegression(C = 1/lamb, penalty='l1', solver='liblinear', fit_intercept=False)\n",
    "    model.fit(X, yobs)\n",
    "    theta_obs = model.coef_[0]\n",
    "    M = np.where( np.abs(theta_obs) > 1e-5)[0]\n",
    "    print(\"Selected support: \", M)\n",
    "\n",
    "    # Exact expectation\n",
    "    probas, states_exact = true_conditional_distribution(theta_obs,X,yobs,lamb,truetheta,conditioning_signs=False)\n",
    "\n",
    "    mean_exact = 0\n",
    "    for k,y in enumerate(states_exact):\n",
    "        mono = 1\n",
    "        for i in coors:\n",
    "            mono *= y[i]\n",
    "        mean_exact += probas[k] * mono\n",
    "    \n",
    "    list_diff = []\n",
    "    list_sizes = []   \n",
    "    if path is None:\n",
    "\n",
    "        #     list_logite = np.linspace(np.log(20000),np.log(100000),10)\n",
    "        #     list_ite = np.array([int(np.exp(el)) for el in list_logite])\n",
    "        #     for nb_ite in list_ite:\n",
    "        count = 0\n",
    "        maxcount = 0\n",
    "        while (count <= 10 and maxcount<=20):\n",
    "            nb_ite = np.random.randint(30000,200000)\n",
    "            maxcount += 1\n",
    "            states = SEI_by_sampling(sig, X, lamb, M, nb_ite=nb_ite)\n",
    "            if len(states)>5:\n",
    "                mean = 0\n",
    "                for y in states:\n",
    "                    mono = 1\n",
    "                    for i in coors:\n",
    "                        mono *= y[i]\n",
    "                    mean += mono\n",
    "                mean /= len(states)\n",
    "                list_diff.append(np.abs(mean-mean_exact))\n",
    "                list_sizes.append(len(states))\n",
    "                count += 1\n",
    "    else:\n",
    "        from os import listdir\n",
    "        from os.path import isfile, join\n",
    "        onlyfiles = [f for f in listdir(path) if isfile(join(path, f))]\n",
    "        indexes = []\n",
    "        for file in onlyfiles:\n",
    "            if file[:12]=='sampling_res':\n",
    "                indexes.append(file[12:-4])\n",
    "        for idx in indexes:\n",
    "            states = np.load(path+'sampling_res'+idx+'.npy')\n",
    "            mean = 0\n",
    "            for y in states:\n",
    "                mono = 1\n",
    "                for i in coors:\n",
    "                    mono *= y[i]\n",
    "                mean += mono\n",
    "            mean /= len(states)\n",
    "            list_diff.append(np.abs(mean-mean_exact))\n",
    "            list_sizes.append(len(states))\n",
    "    return list_diff, list_sizes"
   ]
  },
  {
   "cell_type": "code",
   "execution_count": null,
   "id": "63a15d22",
   "metadata": {},
   "outputs": [],
   "source": [
    "list_diff, list_sizes = monome([1], path='parallel_sampling_res/')"
   ]
  },
  {
   "cell_type": "code",
   "execution_count": null,
   "id": "c7c2e387",
   "metadata": {},
   "outputs": [],
   "source": [
    "idxs_sizes = np.argsort(list_sizes)\n",
    "lssizes = np.array([np.log(list_sizes[idxs_sizes[i]]) for i in range(len(list_sizes))])\n",
    "list_diff = np.array(list_diff)\n",
    "plt.plot(lssizes, list_diff[idxs_sizes])\n",
    "plt.xlabel('Log of the sample size')\n",
    "plt.ylabel('Error')\n",
    "plt.title('$|\\frac{1}{n_s} \\sum h(Y^c) - \\bar \\mathbb E h(Y) |$')\n",
    "plt.show()"
   ]
  },
  {
   "cell_type": "code",
   "execution_count": null,
   "id": "f2b5a4c9",
   "metadata": {},
   "outputs": [],
   "source": [
    "from ipyparallel import Client\n",
    "\n",
    "c = Client()\n",
    "print(c.ids)\n",
    "dview = c[:]\n",
    "import numpy as np\n",
    "\n",
    "@dview.remote(block = True)\n",
    "def parallel_sampling(path):\n",
    "    \"\"\"Samples states from the conditional distribution. This is done in parallel with different random seed in order to save multiple files in order to aggregate with the function 'monome'.\n",
    "    \n",
    "    Parameters\n",
    "    ----------\n",
    "    path: path (ending with '/') where the files containing states sampled from the conditional distribution will be saved.\n",
    "    \"\"\"\n",
    "    import numpy as np\n",
    "    import matplotlib.pyplot as plt\n",
    "    from scipy.integrate import odeint\n",
    "    from sklearn.linear_model import LinearRegression\n",
    "    from sklearn.linear_model import LogisticRegression, LogisticRegressionCV\n",
    "    from inverse_map import inverse_map, train_network\n",
    "    import torch\n",
    "    import scipy\n",
    "    import scipy as sc\n",
    "    import scipy.stats\n",
    "\n",
    "\n",
    "    def sigmoid(u):\n",
    "        \"\"\"Sigmoid function.\"\"\"\n",
    "        return (1/(1+np.exp(-u)))\n",
    "    \n",
    "    \n",
    "    def equalset(A,B):\n",
    "        \"\"\"Checks if two sets of integers are equal.\n",
    "\n",
    "        Parameters\n",
    "        ----------\n",
    "        A, B : lists or sets of integers.\n",
    "\n",
    "        Returns\n",
    "        -------\n",
    "        A boolean which is True if and only if the sets A and B are equal.\n",
    "        \"\"\"\n",
    "        res = True\n",
    "        for a in A:\n",
    "            if a not in B:\n",
    "                res = False\n",
    "        return res\n",
    "\n",
    "    def SEI_by_sampling(sig, X, lamb, M, remove_repetitions=False, nb_ite=100000):\n",
    "        \"\"\"Computes states belonging to the selection event.\n",
    "\n",
    "        Parameters\n",
    "        ----------\n",
    "        sig : list of float\n",
    "            unconditional expectation of the response vector.\n",
    "        X : 2 dimensional matrix\n",
    "            design matrix.\n",
    "        lamb : float\n",
    "            regularization parameter for the l1-penalty.\n",
    "        M : array of integers\n",
    "            selected support.\n",
    "\n",
    "        Returns\n",
    "        -------\n",
    "        states : vectors of the hypercube belonging to the selection event.\n",
    "\n",
    "        Note\n",
    "        ----\n",
    "        Each vector appearing in the returned list is present only once. Note that the set of states returned be the algorithm might not contains all the vectors belonging to the selection event.\n",
    "        \"\"\"\n",
    "        saved_states = []\n",
    "        count = 0\n",
    "        n,p = X.shape\n",
    "        for i in range(nb_ite):\n",
    "            y = np.random.rand(n)<=sig\n",
    "            # We compute the solution of the Sparse Logistic Regression with the current 'y'\n",
    "            if np.sum(y) not in [0,n]:\n",
    "                model = LogisticRegression(penalty='l1', C = 1/lamb, solver='liblinear', fit_intercept=False)\n",
    "                model.fit(X, y)\n",
    "                theta_hat = model.coef_[0]\n",
    "                M2 = np.where( np.abs(theta_hat) > 1e-5)[0]\n",
    "                if equalset(M,M2) and (len(M)==len(M2)):\n",
    "                    saved_states.append(y)\n",
    "                    count += 1\n",
    "            if (count-1)%20==0:\n",
    "                print(count,' states in the selection event found so far')\n",
    "                count += 1\n",
    "        if remove_repetitions:\n",
    "            states = [list(item) for item in set(tuple(row) for row in saved_states)]\n",
    "        return saved_states\n",
    "    \n",
    "    n,p = 15,10\n",
    "    lamb = 1\n",
    "    d = 2\n",
    "    theta = 0*np.ones(d)\n",
    "    truetheta = np.zeros(p)\n",
    "    truetheta[:d] = theta\n",
    "    np.random.seed(1)\n",
    "    rescale = 2*np.sqrt(n)/p\n",
    "    X = rescale * np.random.normal(0,1,(n,p))\n",
    "    matXtrue = X[:,:d]\n",
    "    sig = sigmoid(matXtrue @ theta)\n",
    "    yobs = np.random.rand(n) <= sig\n",
    "    model = LogisticRegression(C = 1/lamb, penalty='l1', solver='liblinear', fit_intercept=False)\n",
    "    model.fit(X, yobs)\n",
    "    theta_obs = model.coef_[0]\n",
    "    M = np.where( np.abs(theta_obs) > 1e-5)[0]\n",
    "    print(\"Selected support: \", M)\n",
    "#     logite = np.random.uniform(np.log(3000),np.log(3000000))\n",
    "#     nb_ite = int(np.exp(logite))\n",
    "    nb_ite = np.random.randint(3000,30000)\n",
    "\n",
    "    import os\n",
    "    idjob = os.getpid()\n",
    "    np.random.seed()\n",
    "\n",
    "    states = SEI_by_sampling(sig, X, lamb, M, nb_ite=nb_ite)\n",
    "    np.save(path+'sampling_res'+str(idjob+np.random.randint(0,1000))+'.npy',states)"
   ]
  },
  {
   "cell_type": "markdown",
   "id": "5cc732a3",
   "metadata": {},
   "source": [
    "##### 2) Visualizing the conditional distribution"
   ]
  },
  {
   "cell_type": "code",
   "execution_count": 20,
   "id": "54507282",
   "metadata": {},
   "outputs": [
    {
     "data": {
      "text/plain": [
       "<matplotlib.legend.Legend at 0x7fc759cb6a10>"
      ]
     },
     "execution_count": 20,
     "metadata": {},
     "output_type": "execute_result"
    },
    {
     "data": {
      "image/png": "[encoded data removed]",
      "text/plain": [
       "<Figure size 432x288 with 1 Axes>"
      ]
     },
     "metadata": {
      "needs_background": "light"
     },
     "output_type": "display_data"
    }
   ],
   "source": [
    "matXtrue = X[:,M]\n",
    "rho = matXtrue.T @ barpi.T\n",
    "try:\n",
    "    tildetheta = net(torch.from_numpy(rho.T).float())\n",
    "    tildetheta = tildetheta.detach().numpy()\n",
    "except:\n",
    "    model = LogitRegressionContinuous()\n",
    "    model.fit(matXtrue, barpi)\n",
    "    tildetheta = model.coef_\n",
    "tildeGN = matXtrue.T @ np.diag(barpi*(np.ones(n)-barpi)) @ matXtrue\n",
    "usvd,s,vt = np.linalg.svd(tildeGN)\n",
    "tildeGN_12 = usvd @ np.diag(1/np.sqrt(s)) @ vt\n",
    "GNtilde = matXtrue.T @ np.diag(sigmoid1(matXtrue @ tildetheta)) @ matXtrue\n",
    "VN = tildeGN_12 @ GNtilde\n",
    "\n",
    "lsstat = []\n",
    "u  = np.random.normal(0,1,len(M))\n",
    "u /= np.linalg.norm(u)\n",
    "u = np.zeros(len(M))\n",
    "u[0] = 1\n",
    "lspvals_selec = []\n",
    "for i in range(len(states)):\n",
    "    y = np.array(states[i])\n",
    "    # selected\n",
    "    model = LogisticRegression(C=10000, solver='liblinear', fit_intercept=False)\n",
    "    model.fit(matXtrue, y)\n",
    "    theta = model.coef_[0]\n",
    "    stat = u.T @ VN @ (theta - tildetheta)\n",
    "    lsstat.append(stat)\n",
    "    stat2 = np.linalg.norm( VN @ (theta - tildetheta))**2\n",
    "    lspvals_selec.append(1-scipy.stats.chi2.cdf(stat2, len(M)))\n",
    "a= plt.hist(lsstat, density=True, alpha=0.2, bins=30)\n",
    "b = np.random.normal(0,1,500)\n",
    "c = plt.hist(b,density=True, bins=30, alpha=0.2, label='true gaussian')\n",
    "plt.legend()"
   ]
  },
  {
   "cell_type": "code",
   "execution_count": 21,
   "id": "922f5429",
   "metadata": {},
   "outputs": [
    {
     "data": {
      "text/plain": [
       "(array([3.00000e+00, 2.00000e+00, 1.00000e+00, 6.00000e+00, 1.40000e+01,\n",
       "        2.20000e+01, 5.10000e+01, 1.66000e+02, 8.07000e+02, 2.63669e+05]),\n",
       " array([0.99999993, 0.99999994, 0.99999995, 0.99999995, 0.99999996,\n",
       "        0.99999997, 0.99999997, 0.99999998, 0.99999999, 0.99999999,\n",
       "        1.        ]),\n",
       " <BarContainer object of 10 artists>)"
      ]
     },
     "execution_count": 21,
     "metadata": {},
     "output_type": "execute_result"
    },
    {
     "data": {
      "image/png": "[encoded data removed]",
      "text/plain": [
       "<Figure size 432x288 with 1 Axes>"
      ]
     },
     "metadata": {
      "needs_background": "light"
     },
     "output_type": "display_data"
    }
   ],
   "source": [
    "a = plt.hist(lspvals_selec)"
   ]
  },
  {
   "cell_type": "code",
   "execution_count": 22,
   "id": "982c06c8",
   "metadata": {},
   "outputs": [
    {
     "name": "stdout",
     "output_type": "stream",
     "text": [
      "[  4.86312698   2.6965552   74.78306205 -40.34741306 -42.51979641\n",
      "  76.88916706  10.48703625  35.04030318  -9.42070338] [  6.71694963   2.13451877  89.43589674 -46.31878479 -49.74717124\n",
      "  93.27580388  12.47139661  41.12657396 -10.17301964] [ 3.0843280e-02  7.2348416e-03  1.3404906e-01 -4.8511386e-02\n",
      " -7.2319046e-02  1.7453001e-01  8.5245818e-05  4.5916647e-02\n",
      " -1.7582081e-02]\n"
     ]
    }
   ],
   "source": [
    "rho = matXtrue.T @ barpi\n",
    "tildetheta = net(torch.from_numpy(rho.T/rescale**2).float())\n",
    "the = tildetheta.detach().numpy()\n",
    "print(rho, matXtrue.T @sigmoid(matXtrue @ (the)/rescale**2), the)"
   ]
  },
  {
   "cell_type": "code",
   "execution_count": 94,
   "id": "0ed725d1",
   "metadata": {},
   "outputs": [
    {
     "name": "stdout",
     "output_type": "stream",
     "text": [
      "[-0.0888546   1.32551961  6.71912457 15.39023271  4.73602669 -8.26528623\n",
      "  1.07773551  0.32052589  4.16137539  3.79704289] [-0.08903855  1.32661835  6.72445069 15.40254043  4.73966371 -8.27186819\n",
      "  1.07847033  0.32067038  4.16455357  3.79999962] [ 0.00454368  0.00218084 -0.0005032  -0.00110934  0.00231096  0.00040413\n",
      "  0.00218441  0.00202103  0.00502457  0.00287753]\n"
     ]
    }
   ],
   "source": [
    "model = LogitRegressionContinuous()\n",
    "model.fit( matXtrue, barpi)\n",
    "tildetheta = model.coef_\n",
    "print( matXtrue.T @ barpi, matXtrue.T @sigmoid(matXtrue @ (tildetheta)), tildetheta)"
   ]
  },
  {
   "cell_type": "code",
   "execution_count": 129,
   "id": "966a73c1",
   "metadata": {},
   "outputs": [],
   "source": [
    "import numpy as np\n",
    "from sklearn.linear_model import LinearRegression\n",
    "\n",
    "\n",
    "class LogitRegressionContinuous(LinearRegression):\n",
    "\n",
    "    def fit(self, x, p):\n",
    "        p = np.asarray(p)\n",
    "        y = np.log(p / (1 - p))\n",
    "        return super().fit(x, y)\n",
    "\n",
    "    def predict(self, x):\n",
    "        y = super().predict(x)\n",
    "        return 1 / (np.exp(-y) + 1)\n",
    "\n",
    "\n",
    "if __name__ == '__main__':\n",
    "    # generate example data\n",
    "    model = LogitRegression()\n",
    "    model.fit( matXtrue, barpi)\n",
    "\n",
    "    print(model.coef_)\n",
    "    # [[  2.06115362e-09]\n",
    "    #  [  5.00000000e-01]\n",
    "    print( matXtrue.T @ barpi, matXtrue.T @ sigmoid(matXtrue @ model.coef_))"
   ]
  },
  {
   "cell_type": "code",
   "execution_count": null,
   "id": "0bbcf90a",
   "metadata": {},
   "outputs": [],
   "source": [
    "matXtrue = X[:,M]\n",
    "\n",
    "idxs = np.random.choice([i for i in range(len(states))], size=300, p=probasalt)\n",
    "\n",
    "mean = np.zeros(n)\n",
    "norma = 0\n",
    "for j in idxs[:250]:\n",
    "    y = states[j]\n",
    "    mean += np.array(y) * probasalt[j]\n",
    "    norma += probasalt[j]\n",
    "    rho = matXtrue.T @ y\n",
    "    tildetheta = net(torch.from_numpy(rho.T).float())\n",
    "    the = tildetheta.detach().numpy()\n",
    "    #print(rho, matXtrue.T @ sigmoid(matXtrue @ the),the)\n",
    "    \n",
    "    model = LogisticRegression(C=10000, solver='liblinear', fit_intercept=False)\n",
    "    model.fit(X, y)\n",
    "    theta_obs = model.coef_[0]\n",
    "    print('THETA', theta_obs)\n",
    "print(mean / norma)"
   ]
  },
  {
   "cell_type": "markdown",
   "id": "6b28cda4",
   "metadata": {},
   "source": [
    "# 0) To launch on a cluster the rejection sampling algo for different sets of parameters "
   ]
  },
  {
   "cell_type": "code",
   "execution_count": null,
   "id": "33bfe6db",
   "metadata": {},
   "outputs": [],
   "source": [
    "from ipyparallel import Client\n",
    "\n",
    "c = Client()\n",
    "print(c.ids)\n",
    "dview = c[:]\n",
    "import numpy as np"
   ]
  },
  {
   "cell_type": "code",
   "execution_count": null,
   "id": "b35f2184",
   "metadata": {},
   "outputs": [],
   "source": [
    "\n",
    "@dview.remote(block = True)\n",
    "def logPSI(settings):\n",
    "\n",
    "    import numpy as np\n",
    "    import torch.optim as optim\n",
    "    import matplotlib.pyplot as plt\n",
    "    from scipy.integrate import odeint\n",
    "    from inverse_map import inverse_map, train_network\n",
    "    import torch\n",
    "    from sklearn.linear_model import LinearRegression\n",
    "    from sklearn.linear_model import LogisticRegression,LogisticRegressionCV\n",
    "    import os\n",
    "    import pickle\n",
    "\n",
    "    \n",
    "               \n",
    "    \n",
    "    idjob = os.getpid()\n",
    "    np.random.seed()\n",
    "    idjob += np.random.randint(1,1000)\n",
    "    \n",
    "    path='dataEM/'\n",
    "\n",
    "\n",
    "    def sigmoid(u):\n",
    "        \"\"\"Sigmoid function.\"\"\"\n",
    "        return (1/(1+np.exp(-u)))\n",
    "\n",
    "    def equalset(A,B):\n",
    "        \"\"\"Checks if two sets of integers are equal.\n",
    "\n",
    "        Parameters\n",
    "        ----------\n",
    "        A, B : lists or sets of integers.\n",
    "\n",
    "        Returns\n",
    "        -------\n",
    "        A boolean which is True if and only if the sets A and B are equal.\n",
    "        \"\"\"\n",
    "        res = True\n",
    "        for a in A:\n",
    "            if a not in B:\n",
    "                res = False\n",
    "        return res\n",
    "    def SEI_by_sampling(sig, X, lamb, M):\n",
    "        \"\"\"Computes states belonging to the selection event.\n",
    "\n",
    "        Parameters\n",
    "        ----------\n",
    "        sig : list of float\n",
    "            unconditional expectation of the response vector.\n",
    "        X : 2 dimensional matrix\n",
    "            design matrix.\n",
    "        lamb : float\n",
    "            regularization parameter for the l1-penalty.\n",
    "        M : array of integers\n",
    "            selected support.\n",
    "\n",
    "        Returns\n",
    "        -------\n",
    "        states : vectors of the hypercube belonging to the selection event.\n",
    "\n",
    "        Note\n",
    "        ----\n",
    "        Each vector appearing in the returned list is present only once. Note that the set of states returned be the algorithm might not contains all the vectors belonging to the selection event.\n",
    "        \"\"\"\n",
    "        saved_states = []\n",
    "        count = 0\n",
    "        n,p = X.shape\n",
    "        for i in range(1000000):\n",
    "            y = np.random.rand(n)<=sig\n",
    "            # We compute the solution of the Sparse Logistic Regression with the current 'y'\n",
    "            if np.sum(y) not in [0,n]:\n",
    "                model = LogisticRegression(penalty='l1', C = 1/lamb, solver='liblinear', fit_intercept=False)\n",
    "                model.fit(X, y)\n",
    "                theta_hat = model.coef_[0]\n",
    "                M2 = np.where( np.abs(theta_hat) > 1e-5)[0]\n",
    "                if equalset(M,M2) and (len(M)==len(M2)):\n",
    "                    saved_states.append(y)\n",
    "                    count += 1\n",
    "            if (count-1)%20==0:\n",
    "                print(count,' states in the selection event found so far')\n",
    "                count += 1\n",
    "        states = [list(item) for item in set(tuple(row) for row in saved_states)]\n",
    "        return states\n",
    "\n",
    "    for idx,setting in enumerate(settings):\n",
    "        n,p = setting['n'], setting['p']\n",
    "        \n",
    "        lamb = setting['lamb']\n",
    "\n",
    "        d = 2\n",
    "        theta = 0*np.ones(d)\n",
    "        truetheta = np.zeros(p)\n",
    "        truetheta[:d] = theta\n",
    "\n",
    "        np.random.seed(1)\n",
    "        X = np.random.normal(0,1,(n,p))\n",
    "        if setting['normalize']:\n",
    "            X /= np.tile(np.linalg.norm(X,axis=0),(n,1))\n",
    "        matXtrue = X[:,:d]\n",
    "\n",
    "        sig = sigmoid(matXtrue @ theta)\n",
    "        yobs = np.random.rand(n) <= sig\n",
    "        if lamb==-1:\n",
    "            if setting['normalize']:\n",
    "                model = LogisticRegressionCV(Cs = [0.05*(i+1) for i in range(33)], penalty='l1', solver='liblinear', fit_intercept=False)\n",
    "            else:\n",
    "                model = LogisticRegressionCV(Cs = [0.5*(i+1) for i in range(33)], penalty='l1', solver='liblinear', fit_intercept=False)\n",
    "            model.fit(X, yobs)\n",
    "            lamb = 1/model.C_[0]\n",
    "        else:\n",
    "            model = LogisticRegression(C = 1/lamb, penalty='l1', solver='liblinear', fit_intercept=False)\n",
    "            model.fit(X, yobs)\n",
    "        theta_obs = model.coef_[0]\n",
    "        M = np.where( np.abs(theta_obs) > 1e-5)[0]\n",
    "        np.save(path+str(idx)+'_'+str(idjob)+'_M.npy',M)\n",
    "        np.save(path+str(idx)+'_'+str(idjob)+'_yobs.npy',yobs)\n",
    "        np.save(path+str(idx)+'_'+str(idjob)+'_lamb.npy',np.array([lamb]))\n",
    "\n",
    "        with open(path+str(idx)+'_setting.pkl', 'wb') as f:\n",
    "            pickle.dump(setting, f)\n",
    "        states = SEI_by_sampling(sig, X, lamb, M)\n",
    "        np.save(path+str(idx)+'_'+str(idjob)+'_states.npy',states)\n",
    "\n"
   ]
  },
  {
   "cell_type": "code",
   "execution_count": null,
   "id": "33353819",
   "metadata": {},
   "outputs": [],
   "source": [
    "settings = [ {'n':200,'lamb':10,'p':20,'normalize':False}, \n",
    "                {'n':200,'lamb':5,'p':10,'normalize':False},\n",
    "                {'n':50,'lamb':4,'p':30,'normalize':False},\n",
    "                {'n':50,'lamb':6,'p':30,'normalize':False},\n",
    "                {'n':50,'lamb':3,'p':15,'normalize':False},\n",
    "                {'n':200,'lamb':0.4,'p':20,'normalize':True}, \n",
    "                {'n':200,'lamb':0.4,'p':10,'normalize':True},\n",
    "                {'n':50,'lamb':0.5,'p':30,'normalize':True},\n",
    "                {'n':50,'lamb':0.7,'p':30,'normalize':True},\n",
    "                {'n':50,'lamb':3,'p':15,'normalize':True},\n",
    "                {'n':200,'lamb':-1,'p':20,'normalize':False}, \n",
    "                {'n':200,'lamb':-1,'p':10,'normalize':False},\n",
    "                {'n':50,'lamb':-1,'p':30,'normalize':False},\n",
    "                {'n':50,'lamb':-1,'p':30,'normalize':False},\n",
    "                {'n':50,'lamb':-1,'p':15,'normalize':False},\n",
    "               ]\n",
    "logPSI()"
   ]
  },
  {
   "cell_type": "code",
   "execution_count": null,
   "id": "43d291ad",
   "metadata": {},
   "outputs": [],
   "source": [
    "path = 'dataEM/'\n",
    "num = '4'\n",
    "\n",
    "setting = settings[int(num)]\n",
    "\n",
    "# Finding all the saved experiments\n",
    "from os import listdir\n",
    "from os.path import isfile, join\n",
    "onlyfiles = [f for f in listdir(path) if isfile(join(path, f))]\n",
    "indexes = []\n",
    "for file in onlyfiles:\n",
    "    if file[:2]==num+'_' and file[::-1][:6]=='ypn.M_':\n",
    "        indexes.append(file[:-6])\n",
    "print('Total of number of simulated annealing:', len(indexes))"
   ]
  },
  {
   "cell_type": "code",
   "execution_count": null,
   "id": "a26c2741",
   "metadata": {},
   "outputs": [],
   "source": [
    "saved_states = []\n",
    "for idx in indexes:\n",
    "    sta = np.load('dataEM/'+idx+'_states.npy')\n",
    "    saved_states += list(sta) \n",
    "    \n",
    "states = [list(item) for item in set(tuple(row) for row in saved_states)]\n",
    "print(len(states))"
   ]
  },
  {
   "cell_type": "code",
   "execution_count": null,
   "id": "3997b193",
   "metadata": {},
   "outputs": [],
   "source": [
    "n,p = setting['n'], setting['p']\n",
    "\n",
    "lamb = setting['lamb']\n",
    "\n",
    "d = 2\n",
    "theta = 0*np.ones(d)\n",
    "truetheta = np.zeros(p)\n",
    "truetheta[:d] = theta\n",
    "\n",
    "np.random.seed(1)\n",
    "X = np.random.normal(0,1,(n,p))\n",
    "if setting['normalize']:\n",
    "    X /= np.tile(np.linalg.norm(X,axis=0),(n,1))\n",
    "matXtrue = X[:,:d]\n",
    "\n",
    "sig = sigmoid(matXtrue @ theta)\n",
    "yobs = np.random.rand(n) <= sig\n",
    "if lamb==-1:\n",
    "    if setting['normalize']:\n",
    "        model = LogisticRegressionCV(Cs = [0.05*(i+1) for i in range(33)], penalty='l1', solver='liblinear', fit_intercept=False)\n",
    "    else:\n",
    "        model = LogisticRegressionCV(Cs = [0.5*(i+1) for i in range(33)], penalty='l1', solver='liblinear', fit_intercept=False)\n",
    "    model.fit(X, yobs)\n",
    "    lamb = 1/model.C_[0]\n",
    "else:\n",
    "    model = LogisticRegression(C = 1/lamb, penalty='l1', solver='liblinear', fit_intercept=False)\n",
    "    model.fit(X, yobs)\n",
    "theta_obs = model.coef_[0]\n",
    "M = np.where( np.abs(theta_obs) > 1e-5)[0]\n",
    "\n",
    "thetanull = np.copy(truetheta)\n",
    "signull = sigmoid(X @ thetanull)"
   ]
  }
 ],
 "metadata": {
  "kernelspec": {
   "display_name": "Python 3",
   "language": "python",
   "name": "python3"
  },
  "language_info": {
   "codemirror_mode": {
    "name": "ipython",
    "version": 3
   },
   "file_extension": ".py",
   "mimetype": "text/x-python",
   "name": "python",
   "nbconvert_exporter": "python",
   "pygments_lexer": "ipython3",
   "version": "3.8.8"
  }
 },
 "nbformat": 4,
 "nbformat_minor": 5
}
