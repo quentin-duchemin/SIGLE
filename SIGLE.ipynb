{
 "cells": [
  {
   "cell_type": "markdown",
   "metadata": {},
   "source": [
    "# SIGLE: Selective Inference in Generalized Linear models through conditional MLE\n",
    "# The case of the Sparse Logistic Regression\n",
    "\n",
    "\n",
    "### Authors: Quentin Duchemin & Yohann De Castro"
   ]
  },
  {
   "cell_type": "code",
   "execution_count": 1,
   "metadata": {},
   "outputs": [],
   "source": [
    "import numpy as np\n",
    "import matplotlib.pyplot as plt\n",
    "from scipy.integrate import odeint\n",
    "from sklearn.linear_model import LinearRegression\n",
    "from sklearn.linear_model import LogisticRegression, LogisticRegressionCV\n",
    "from inverse_map import inverse_map, train_network\n",
    "import torch\n",
    "import scipy\n",
    "import scipy as sc\n",
    "import scipy.stats\n",
    "from PSIGLL import *"
   ]
  },
  {
   "cell_type": "markdown",
   "metadata": {},
   "source": [
    "# I) SEI-SLR"
   ]
  },
  {
   "cell_type": "code",
   "execution_count": null,
   "metadata": {},
   "outputs": [],
   "source": [
    "n,p = 11,10\n",
    "X = np.random.normal(0,1,(n,p))\n",
    "X /= np.tile(np.linalg.norm(X,axis=0),(n,1))\n",
    "theta = np.zeros(p)\n",
    "theta[:2] = [1,1]\n",
    "def logtemp(x):\n",
    "    return (0.4/np.log(x))\n",
    "nb_expe = 1\n",
    "\n",
    "settings= [{'n':n,\n",
    "            'p':p,\n",
    "            'X':X,\n",
    "            'theta':theta,\n",
    "            'cross_val':False,\n",
    "            'lamb':0.6,\n",
    "            'temperature':logtemp, \n",
    "            'nb_expe':nb_expe, \n",
    "            'file':'test/'}]\n",
    "\n",
    "SEI_SLR(settings=10*settings, conditioning_signs=False, total_length_SEISLR_path=1500,compute_pvalues=False)"
   ]
  },
  {
   "cell_type": "code",
   "execution_count": null,
   "metadata": {},
   "outputs": [],
   "source": [
    "path = 'test/'\n",
    "\n",
    "# Finding all the saved experiments\n",
    "from os import listdir\n",
    "from os.path import isfile, join\n",
    "onlyfiles = [f for f in listdir(path) if isfile(join(path, f))]\n",
    "indexes = []\n",
    "for file in onlyfiles:\n",
    "    if file[:6]=='last_y':\n",
    "        indexes.append(file[6:-4])\n",
    "print('Total of number of simulated annealing:', len(indexes))"
   ]
  },
  {
   "cell_type": "markdown",
   "metadata": {},
   "source": [
    "### 1) Visualization of results"
   ]
  },
  {
   "cell_type": "code",
   "execution_count": null,
   "metadata": {},
   "outputs": [],
   "source": [
    "index = indexes[1]\n",
    "\n",
    "M = np.load(path+index+'M.npy')\n",
    "X = np.load(path+index+'X.npy')\n",
    "lamb = np.load(path+index+'lamb.npy')[0]\n",
    "theta_obs = np.load(path+index+'theta_obs.npy')\n",
    "sig = np.load(path+index+'sig.npy')\n",
    "yobs = np.load(path+index+'yobs.npy')\n",
    "if n<=17:\n",
    "    bnM_admi, ls_states_admissibles = compute_selection_event(theta_obs,X,yobs,lamb,conditioning_signs=False)\n",
    "else:\n",
    "    ls_states_admissibles = SEI_by_sampling(sig, X, lamb, M)"
   ]
  },
  {
   "cell_type": "code",
   "execution_count": null,
   "metadata": {},
   "outputs": [],
   "source": [
    "last_visited_states(indexes,path,ls_states_admissibles)"
   ]
  },
  {
   "cell_type": "code",
   "execution_count": null,
   "metadata": {},
   "outputs": [],
   "source": [
    "histo_time_in_selection_event(indexes, path, ls_states_admissibles)"
   ]
  },
  {
   "cell_type": "code",
   "execution_count": null,
   "metadata": {},
   "outputs": [],
   "source": [
    "time_in_selection_event(indexes, path, ls_states_admissibles)"
   ]
  },
  {
   "cell_type": "code",
   "execution_count": null,
   "metadata": {},
   "outputs": [],
   "source": [
    "ls_FNR = np.load('test/FNR'+index+'.npy')\n",
    "hist = plt.hist(ls_FNR,density=True)\n",
    "plt.ylabel('')\n",
    "plt.xlabel('False Negative Rate for the last visited states', fontsize=13)\n",
    "plt.show()"
   ]
  },
  {
   "cell_type": "markdown",
   "metadata": {},
   "source": [
    "# II) CDF of P-values"
   ]
  },
  {
   "cell_type": "markdown",
   "metadata": {},
   "source": [
    "##### Data"
   ]
  },
  {
   "cell_type": "code",
   "execution_count": 9,
   "metadata": {},
   "outputs": [
    {
     "name": "stdout",
     "output_type": "stream",
     "text": [
      "Selected support:  [0 1 3 4 5 6 7 8 9]\n",
      "Size selected support:  9\n"
     ]
    }
   ],
   "source": [
    "n,p = 400,10\n",
    "lamb = 2\n",
    "\n",
    "d = 2\n",
    "theta = 0*np.ones(d)\n",
    "truetheta = np.zeros(p)\n",
    "truetheta[:d] = theta\n",
    "\n",
    "np.random.seed(1)\n",
    "\n",
    "rescale = 2*np.sqrt(n)/p\n",
    "X = rescale * np.random.normal(0,1,(n,p))\n",
    "#X /= np.tile(np.linalg.norm(X,axis=0),(n,1))\n",
    "matXtrue = X[:,:d]\n",
    "\n",
    "sig = sigmoid(matXtrue @ theta)\n",
    "yobs = np.random.rand(n) <= sig\n",
    "model = LogisticRegression(C = 1/lamb, penalty='l1', solver='liblinear', fit_intercept=False)\n",
    "model.fit(X, yobs)\n",
    "theta_obs = model.coef_[0]\n",
    "M = np.where( np.abs(theta_obs) > 1e-5)[0]\n",
    "print('Selected support: ', M)\n",
    "print('Size selected support: ', len(M))\n",
    "\n",
    "\n",
    "# definition of the null distribution\n",
    "thetanull = np.zeros(p)\n",
    "signull = sigmoid(X @ thetanull)"
   ]
  },
  {
   "cell_type": "markdown",
   "metadata": {},
   "source": [
    "### <span style=\"color:red\">SEI by sampling ?</span>\n",
    "Set *SEI_sampling* to *True* in order to approximate the selection event by sampling. Otherwise, the full state space will be visited to compute exactly the selection event. \n",
    "\n",
    "If $n\\geq17$, *SEI_sampling* should be set to *True* to avoid computational issue."
   ]
  },
  {
   "cell_type": "code",
   "execution_count": 10,
   "metadata": {
    "scrolled": true
   },
   "outputs": [
    {
     "data": {
      "application/vnd.jupyter.widget-view+json": {
       "model_id": "ec54aa2543144fb28ef3146acf5b8fdc",
       "version_major": 2,
       "version_minor": 0
      },
      "text/plain": [
       "HBox(children=(HTML(value=''), FloatProgress(value=0.0, max=10000000.0), HTML(value='')))"
      ]
     },
     "metadata": {},
     "output_type": "display_data"
    },
    {
     "name": "stdout",
     "output_type": "stream",
     "text": [
      "\n",
      "Number of states in the selection event:  264741\n"
     ]
    }
   ],
   "source": [
    "SEI_sampling = True\n",
    "if SEI_sampling:\n",
    "    states = SEI_by_sampling(sig, X, lamb, M, nb_ite=10000000)\n",
    "    if (np.abs(signull - sig)>1e-3).any():\n",
    "        statesnull = SEI_by_sampling(signull, X, lamb, M, nb_ite=10000000)\n",
    "    else:\n",
    "        statesnull = np.copy(states)\n",
    "else:\n",
    "    probasalt, EM_states = true_conditional_distribution(theta_obs,X,yobs,lamb,truetheta,conditioning_signs=False)\n",
    "    probasnull, EM_statesnull = true_conditional_distribution(theta_obs,X,yobs,lamb,thetanull,conditioning_signs=False,states=states)\n",
    "    idxs = np.random.choice([i for i in range(len(EM_states))], size=300, p=probasalt)\n",
    "    states = [EM_states[i] for i in idxs]\n",
    "    idxs_null = np.random.choice([i for i in range(len(EM_statesnull))], size=300, p=probasnull)\n",
    "    statesnull = [EM_statesnull[i] for i in idxs_null]\n",
    "print('Number of states in the selection event: ', len(states))"
   ]
  },
  {
   "cell_type": "markdown",
   "metadata": {},
   "source": [
    "##### Computing $\\bar \\pi ^{\\pi ^0}$ and training the NN aiming at computing $\\Psi=\\Xi^{-1}$"
   ]
  },
  {
   "cell_type": "code",
   "execution_count": 16,
   "metadata": {},
   "outputs": [
    {
     "data": {
      "application/vnd.jupyter.widget-view+json": {
       "model_id": "ca219157a45a41a18dabd7b2d14ecd36",
       "version_major": 2,
       "version_minor": 0
      },
      "text/plain": [
       "HBox(children=(HTML(value=''), FloatProgress(value=0.0, max=264741.0), HTML(value='')))"
      ]
     },
     "metadata": {},
     "output_type": "display_data"
    },
    {
     "name": "stdout",
     "output_type": "stream",
     "text": [
      "\n"
     ]
    }
   ],
   "source": [
    "n,p = np.shape(X)\n",
    "matXtrue = X[:,M]\n",
    "tildeGN_12, barpi = params_saturated(signull, matXtrue, statesnull)\n",
    "net, loss_values = train_network(matXtrue/rescale**2,max(1,truetheta[0]),nb_epochs=700,lrstart=0.1,lrdecay_step=80)"
   ]
  },
  {
   "cell_type": "markdown",
   "metadata": {},
   "source": [
    "##### P-values from the weak learner"
   ]
  },
  {
   "cell_type": "code",
   "execution_count": 12,
   "metadata": {},
   "outputs": [
    {
     "data": {
      "application/vnd.jupyter.widget-view+json": {
       "model_id": "c15bcf39bbd548ccb52bf0dc7ca31f0b",
       "version_major": 2,
       "version_minor": 0
      },
      "text/plain": [
       "HBox(children=(HTML(value=''), FloatProgress(value=0.0, max=264741.0), HTML(value='')))"
      ]
     },
     "metadata": {},
     "output_type": "display_data"
    },
    {
     "name": "stdout",
     "output_type": "stream",
     "text": [
      "\n"
     ]
    },
    {
     "data": {
      "application/vnd.jupyter.widget-view+json": {
       "model_id": "83e0b59c67a64f64871969e877acba4a",
       "version_major": 2,
       "version_minor": 0
      },
      "text/plain": [
       "HBox(children=(HTML(value=''), FloatProgress(value=0.0, max=264741.0), HTML(value='')))"
      ]
     },
     "metadata": {},
     "output_type": "display_data"
    },
    {
     "name": "stdout",
     "output_type": "stream",
     "text": [
      "\n"
     ]
    }
   ],
   "source": [
    "lspvals_naive = pval_weak_learner(statesnull,states,barpi)"
   ]
  },
  {
   "cell_type": "markdown",
   "metadata": {},
   "source": [
    "##### P-values from SIGLE"
   ]
  },
  {
   "cell_type": "code",
   "execution_count": 18,
   "metadata": {},
   "outputs": [
    {
     "data": {
      "application/vnd.jupyter.widget-view+json": {
       "model_id": "c99d2d0c2ca6405280172349ecbe5096",
       "version_major": 2,
       "version_minor": 0
      },
      "text/plain": [
       "HBox(children=(HTML(value=''), FloatProgress(value=0.0, max=264741.0), HTML(value='')))"
      ]
     },
     "metadata": {},
     "output_type": "display_data"
    },
    {
     "name": "stdout",
     "output_type": "stream",
     "text": [
      "\n"
     ]
    }
   ],
   "source": [
    "lspvals_selec, lspvals_sat = pval_SIGLE(states, X, M, barpi, net=net, use_net_MLE=True, l2_regularization=10000)"
   ]
  },
  {
   "cell_type": "markdown",
   "metadata": {},
   "source": [
    "##### P-values from Taylor & Tibshirani '18"
   ]
  },
  {
   "cell_type": "code",
   "execution_count": 14,
   "metadata": {},
   "outputs": [
    {
     "data": {
      "application/vnd.jupyter.widget-view+json": {
       "model_id": "76db5454dac84940990e5f4e2931a590",
       "version_major": 2,
       "version_minor": 0
      },
      "text/plain": [
       "HBox(children=(HTML(value=''), FloatProgress(value=0.0, max=264741.0), HTML(value='')))"
      ]
     },
     "metadata": {},
     "output_type": "display_data"
    },
    {
     "name": "stdout",
     "output_type": "stream",
     "text": [
      "\n"
     ]
    }
   ],
   "source": [
    "lspvals_tay = pval_taylor(states,X,lamb,M,show_distributions=False, thetanull = thetanull)"
   ]
  },
  {
   "cell_type": "markdown",
   "metadata": {},
   "source": [
    "##### RESULTS"
   ]
  },
  {
   "cell_type": "code",
   "execution_count": 23,
   "metadata": {},
   "outputs": [
    {
     "data": {
      "image/png": "[encoded data removed]",
      "text/plain": [
       "<Figure size 432x288 with 1 Axes>"
      ]
     },
     "metadata": {
      "needs_background": "light"
     },
     "output_type": "display_data"
    }
   ],
   "source": [
    "lists_pvalues = [lspvals_naive, lspvals_tay, lspvals_selec, lspvals_sat]\n",
    "names = ['Weak learner', \"Taylor & Tibshirani '18\", 'SIGLE Selected', 'SIGLE Saturated']\n",
    "plot_cdf_pvalues(lists_pvalues, names, name_figsave='global_null.png')"
   ]
  },
  {
   "cell_type": "code",
   "execution_count": 24,
   "metadata": {},
   "outputs": [
    {
     "data": {
      "image/png": "[encoded data removed]",
      "text/plain": [
       "<Figure size 432x288 with 1 Axes>"
      ]
     },
     "metadata": {
      "needs_background": "light"
     },
     "output_type": "display_data"
    }
   ],
   "source": [
    "lists_pvalues = [lspvals_naive, lspvals_tay, lspvals_sat]\n",
    "names = ['Weak learner', \"Taylor & Tibshirani '18\", 'SIGLE Saturated']\n",
    "plot_cdf_pvalues(lists_pvalues, names, name_figsave='global_null_sat.png')"
   ]
  },
  {
   "cell_type": "code",
   "execution_count": 20,
   "metadata": {},
   "outputs": [
    {
     "data": {
      "text/plain": [
       "<matplotlib.legend.Legend at 0x7fc759cb6a10>"
      ]
     },
     "execution_count": 20,
     "metadata": {},
     "output_type": "execute_result"
    },
    {
     "data": {
      "image/png": "[encoded data removed]",
      "text/plain": [
       "<Figure size 432x288 with 1 Axes>"
      ]
     },
     "metadata": {
      "needs_background": "light"
     },
     "output_type": "display_data"
    }
   ],
   "source": [
    "matXtrue = X[:,M]\n",
    "rho = matXtrue.T @ barpi.T\n",
    "try:\n",
    "    tildetheta = net(torch.from_numpy(rho.T).float())\n",
    "    tildetheta = tildetheta.detach().numpy()\n",
    "except:\n",
    "    model = LogitRegressionContinuous()\n",
    "    model.fit(matXtrue, barpi)\n",
    "    tildetheta = model.coef_\n",
    "tildeGN = matXtrue.T @ np.diag(barpi*(np.ones(n)-barpi)) @ matXtrue\n",
    "usvd,s,vt = np.linalg.svd(tildeGN)\n",
    "tildeGN_12 = usvd @ np.diag(1/np.sqrt(s)) @ vt\n",
    "GNtilde = matXtrue.T @ np.diag(sigmoid1(matXtrue @ tildetheta)) @ matXtrue\n",
    "VN = tildeGN_12 @ GNtilde\n",
    "\n",
    "lsstat = []\n",
    "u  = np.random.normal(0,1,len(M))\n",
    "u /= np.linalg.norm(u)\n",
    "u = np.zeros(len(M))\n",
    "u[0] = 1\n",
    "lspvals_selec = []\n",
    "for i in range(len(states)):\n",
    "    y = np.array(states[i])\n",
    "    # selected\n",
    "    model = LogisticRegression(C=10000, solver='liblinear', fit_intercept=False)\n",
    "    model.fit(matXtrue, y)\n",
    "    theta = model.coef_[0]\n",
    "    stat = u.T @ VN @ (theta - tildetheta)\n",
    "    lsstat.append(stat)\n",
    "    stat2 = np.linalg.norm( VN @ (theta - tildetheta))**2\n",
    "    lspvals_selec.append(1-scipy.stats.chi2.cdf(stat2, len(M)))\n",
    "a= plt.hist(lsstat, density=True, alpha=0.2, bins=30)\n",
    "b = np.random.normal(0,1,500)\n",
    "c = plt.hist(b,density=True, bins=30, alpha=0.2, label='true gaussian')\n",
    "plt.legend()"
   ]
  },
  {
   "cell_type": "code",
   "execution_count": 21,
   "metadata": {},
   "outputs": [
    {
     "data": {
      "text/plain": [
       "(array([3.00000e+00, 2.00000e+00, 1.00000e+00, 6.00000e+00, 1.40000e+01,\n",
       "        2.20000e+01, 5.10000e+01, 1.66000e+02, 8.07000e+02, 2.63669e+05]),\n",
       " array([0.99999993, 0.99999994, 0.99999995, 0.99999995, 0.99999996,\n",
       "        0.99999997, 0.99999997, 0.99999998, 0.99999999, 0.99999999,\n",
       "        1.        ]),\n",
       " <BarContainer object of 10 artists>)"
      ]
     },
     "execution_count": 21,
     "metadata": {},
     "output_type": "execute_result"
    },
    {
     "data": {
      "image/png": "[encoded data removed]",
      "text/plain": [
       "<Figure size 432x288 with 1 Axes>"
      ]
     },
     "metadata": {
      "needs_background": "light"
     },
     "output_type": "display_data"
    }
   ],
   "source": [
    "plt.hist(lspvals_selec)"
   ]
  },
  {
   "cell_type": "code",
   "execution_count": 22,
   "metadata": {},
   "outputs": [
    {
     "name": "stdout",
     "output_type": "stream",
     "text": [
      "[  4.86312698   2.6965552   74.78306205 -40.34741306 -42.51979641\n",
      "  76.88916706  10.48703625  35.04030318  -9.42070338] [  6.71694963   2.13451877  89.43589674 -46.31878479 -49.74717124\n",
      "  93.27580388  12.47139661  41.12657396 -10.17301964] [ 3.0843280e-02  7.2348416e-03  1.3404906e-01 -4.8511386e-02\n",
      " -7.2319046e-02  1.7453001e-01  8.5245818e-05  4.5916647e-02\n",
      " -1.7582081e-02]\n"
     ]
    }
   ],
   "source": [
    "rho = matXtrue.T @ barpi\n",
    "tildetheta = net(torch.from_numpy(rho.T/rescale**2).float())\n",
    "the = tildetheta.detach().numpy()\n",
    "print(rho, matXtrue.T @sigmoid(matXtrue @ (the)/rescale**2), the)"
   ]
  },
  {
   "cell_type": "code",
   "execution_count": null,
   "metadata": {},
   "outputs": [],
   "source": [
    "import numpy as np\n",
    "from sklearn.linear_model import LinearRegression\n",
    "\n",
    "\n",
    "class LogitRegressionContinuous(LinearRegression):\n",
    "\n",
    "    def fit(self, x, p):\n",
    "        p = np.asarray(p)\n",
    "        y = np.log(p / (1 - p))\n",
    "        return super().fit(x, y)\n",
    "\n",
    "    def predict(self, x):\n",
    "        y = super().predict(x)\n",
    "        return 1 / (np.exp(-y) + 1)\n",
    "\n",
    "\n",
    "if __name__ == '__main__':\n",
    "    # generate example data\n",
    "    model = LogitRegression()\n",
    "    model.fit( matXtrue, barpi)\n",
    "\n",
    "    print(model.coef_)\n",
    "    # [[  2.06115362e-09]\n",
    "    #  [  5.00000000e-01]\n",
    "    print( matXtrue.T @ barpi, matXtrue.T @ sigmoid(matXtrue @ model.coef_))"
   ]
  },
  {
   "cell_type": "code",
   "execution_count": null,
   "metadata": {},
   "outputs": [],
   "source": [
    "matXtrue = X[:,M]\n",
    "\n",
    "idxs = np.random.choice([i for i in range(len(states))], size=300, p=probasalt)\n",
    "\n",
    "mean = np.zeros(n)\n",
    "norma = 0\n",
    "for j in idxs[:250]:\n",
    "    y = states[j]\n",
    "    mean += np.array(y) * probasalt[j]\n",
    "    norma += probasalt[j]\n",
    "    rho = matXtrue.T @ y\n",
    "    tildetheta = net(torch.from_numpy(rho.T).float())\n",
    "    the = tildetheta.detach().numpy()\n",
    "    #print(rho, matXtrue.T @ sigmoid(matXtrue @ the),the)\n",
    "    \n",
    "    model = LogisticRegression(C=10000, solver='liblinear', fit_intercept=False)\n",
    "    model.fit(X, y)\n",
    "    theta_obs = model.coef_[0]\n",
    "    print('THETA', theta_obs)\n",
    "print(mean / norma)"
   ]
  },
  {
   "cell_type": "markdown",
   "metadata": {},
   "source": [
    "# 0) To launch on a cluster the rejection sampling algo for different sets of parameters "
   ]
  },
  {
   "cell_type": "code",
   "execution_count": null,
   "metadata": {},
   "outputs": [],
   "source": [
    "from ipyparallel import Client\n",
    "\n",
    "c = Client()\n",
    "print(c.ids)\n",
    "dview = c[:]\n",
    "import numpy as np"
   ]
  },
  {
   "cell_type": "code",
   "execution_count": null,
   "metadata": {},
   "outputs": [],
   "source": [
    "\n",
    "@dview.remote(block = True)\n",
    "def logPSI(settings):\n",
    "\n",
    "    import numpy as np\n",
    "    import torch.optim as optim\n",
    "    import matplotlib.pyplot as plt\n",
    "    from scipy.integrate import odeint\n",
    "    from inverse_map import inverse_map, train_network\n",
    "    import torch\n",
    "    from sklearn.linear_model import LinearRegression\n",
    "    from sklearn.linear_model import LogisticRegression,LogisticRegressionCV\n",
    "    import os\n",
    "    import pickle\n",
    "\n",
    "    \n",
    "               \n",
    "    \n",
    "    idjob = os.getpid()\n",
    "    np.random.seed()\n",
    "    idjob += np.random.randint(1,1000)\n",
    "    \n",
    "    path='dataEM/'\n",
    "\n",
    "\n",
    "    def sigmoid(u):\n",
    "        \"\"\"Sigmoid function.\"\"\"\n",
    "        return (1/(1+np.exp(-u)))\n",
    "\n",
    "    def equalset(A,B):\n",
    "        \"\"\"Checks if two sets of integers are equal.\n",
    "\n",
    "        Parameters\n",
    "        ----------\n",
    "        A, B : lists or sets of integers.\n",
    "\n",
    "        Returns\n",
    "        -------\n",
    "        A boolean which is True if and only if the sets A and B are equal.\n",
    "        \"\"\"\n",
    "        res = True\n",
    "        for a in A:\n",
    "            if a not in B:\n",
    "                res = False\n",
    "        return res\n",
    "    def SEI_by_sampling(sig, X, lamb, M):\n",
    "        \"\"\"Computes states belonging to the selection event.\n",
    "\n",
    "        Parameters\n",
    "        ----------\n",
    "        sig : list of float\n",
    "            unconditional expectation of the response vector.\n",
    "        X : 2 dimensional matrix\n",
    "            design matrix.\n",
    "        lamb : float\n",
    "            regularization parameter for the l1-penalty.\n",
    "        M : array of integers\n",
    "            selected support.\n",
    "\n",
    "        Returns\n",
    "        -------\n",
    "        states : vectors of the hypercube belonging to the selection event.\n",
    "\n",
    "        Note\n",
    "        ----\n",
    "        Each vector appearing in the returned list is present only once. Note that the set of states returned be the algorithm might not contains all the vectors belonging to the selection event.\n",
    "        \"\"\"\n",
    "        saved_states = []\n",
    "        count = 0\n",
    "        n,p = X.shape\n",
    "        for i in range(1000000):\n",
    "            y = np.random.rand(n)<=sig\n",
    "            # We compute the solution of the Sparse Logistic Regression with the current 'y'\n",
    "            if np.sum(y) not in [0,n]:\n",
    "                model = LogisticRegression(penalty='l1', C = 1/lamb, solver='liblinear', fit_intercept=False)\n",
    "                model.fit(X, y)\n",
    "                theta_hat = model.coef_[0]\n",
    "                M2 = np.where( np.abs(theta_hat) > 1e-5)[0]\n",
    "                if equalset(M,M2) and (len(M)==len(M2)):\n",
    "                    saved_states.append(y)\n",
    "                    count += 1\n",
    "            if (count-1)%20==0:\n",
    "                print(count,' states in the selection event found so far')\n",
    "                count += 1\n",
    "        states = [list(item) for item in set(tuple(row) for row in saved_states)]\n",
    "        return states\n",
    "\n",
    "    for idx,setting in enumerate(settings):\n",
    "        n,p = setting['n'], setting['p']\n",
    "        \n",
    "        lamb = setting['lamb']\n",
    "\n",
    "        d = 2\n",
    "        theta = 0*np.ones(d)\n",
    "        truetheta = np.zeros(p)\n",
    "        truetheta[:d] = theta\n",
    "\n",
    "        np.random.seed(1)\n",
    "        X = np.random.normal(0,1,(n,p))\n",
    "        if setting['normalize']:\n",
    "            X /= np.tile(np.linalg.norm(X,axis=0),(n,1))\n",
    "        matXtrue = X[:,:d]\n",
    "\n",
    "        sig = sigmoid(matXtrue @ theta)\n",
    "        yobs = np.random.rand(n) <= sig\n",
    "        if lamb==-1:\n",
    "            if setting['normalize']:\n",
    "                model = LogisticRegressionCV(Cs = [0.05*(i+1) for i in range(33)], penalty='l1', solver='liblinear', fit_intercept=False)\n",
    "            else:\n",
    "                model = LogisticRegressionCV(Cs = [0.5*(i+1) for i in range(33)], penalty='l1', solver='liblinear', fit_intercept=False)\n",
    "            model.fit(X, yobs)\n",
    "            lamb = 1/model.C_[0]\n",
    "        else:\n",
    "            model = LogisticRegression(C = 1/lamb, penalty='l1', solver='liblinear', fit_intercept=False)\n",
    "            model.fit(X, yobs)\n",
    "        theta_obs = model.coef_[0]\n",
    "        M = np.where( np.abs(theta_obs) > 1e-5)[0]\n",
    "        np.save(path+str(idx)+'_'+str(idjob)+'_M.npy',M)\n",
    "        np.save(path+str(idx)+'_'+str(idjob)+'_yobs.npy',yobs)\n",
    "        np.save(path+str(idx)+'_'+str(idjob)+'_lamb.npy',np.array([lamb]))\n",
    "\n",
    "        with open(path+str(idx)+'_setting.pkl', 'wb') as f:\n",
    "            pickle.dump(setting, f)\n",
    "        states = SEI_by_sampling(sig, X, lamb, M)\n",
    "        np.save(path+str(idx)+'_'+str(idjob)+'_states.npy',states)\n",
    "\n"
   ]
  },
  {
   "cell_type": "code",
   "execution_count": null,
   "metadata": {},
   "outputs": [],
   "source": [
    "settings = [ {'n':200,'lamb':10,'p':20,'normalize':False}, \n",
    "                {'n':200,'lamb':5,'p':10,'normalize':False},\n",
    "                {'n':50,'lamb':4,'p':30,'normalize':False},\n",
    "                {'n':50,'lamb':6,'p':30,'normalize':False},\n",
    "                {'n':50,'lamb':3,'p':15,'normalize':False},\n",
    "                {'n':200,'lamb':0.4,'p':20,'normalize':True}, \n",
    "                {'n':200,'lamb':0.4,'p':10,'normalize':True},\n",
    "                {'n':50,'lamb':0.5,'p':30,'normalize':True},\n",
    "                {'n':50,'lamb':0.7,'p':30,'normalize':True},\n",
    "                {'n':50,'lamb':3,'p':15,'normalize':True},\n",
    "                {'n':200,'lamb':-1,'p':20,'normalize':False}, \n",
    "                {'n':200,'lamb':-1,'p':10,'normalize':False},\n",
    "                {'n':50,'lamb':-1,'p':30,'normalize':False},\n",
    "                {'n':50,'lamb':-1,'p':30,'normalize':False},\n",
    "                {'n':50,'lamb':-1,'p':15,'normalize':False},\n",
    "               ]\n",
    "logPSI()"
   ]
  },
  {
   "cell_type": "code",
   "execution_count": null,
   "metadata": {},
   "outputs": [],
   "source": [
    "path = 'dataEM/'\n",
    "num = '4'\n",
    "\n",
    "setting = settings[int(num)]\n",
    "\n",
    "# Finding all the saved experiments\n",
    "from os import listdir\n",
    "from os.path import isfile, join\n",
    "onlyfiles = [f for f in listdir(path) if isfile(join(path, f))]\n",
    "indexes = []\n",
    "for file in onlyfiles:\n",
    "    if file[:2]==num+'_' and file[::-1][:6]=='ypn.M_':\n",
    "        indexes.append(file[:-6])\n",
    "print('Total of number of simulated annealing:', len(indexes))"
   ]
  },
  {
   "cell_type": "code",
   "execution_count": null,
   "metadata": {},
   "outputs": [],
   "source": [
    "saved_states = []\n",
    "for idx in indexes:\n",
    "    sta = np.load('dataEM/'+idx+'_states.npy')\n",
    "    saved_states += list(sta) \n",
    "    \n",
    "states = [list(item) for item in set(tuple(row) for row in saved_states)]\n",
    "print(len(states))"
   ]
  },
  {
   "cell_type": "code",
   "execution_count": null,
   "metadata": {},
   "outputs": [],
   "source": [
    "n,p = setting['n'], setting['p']\n",
    "\n",
    "lamb = setting['lamb']\n",
    "\n",
    "d = 2\n",
    "theta = 0*np.ones(d)\n",
    "truetheta = np.zeros(p)\n",
    "truetheta[:d] = theta\n",
    "\n",
    "np.random.seed(1)\n",
    "X = np.random.normal(0,1,(n,p))\n",
    "if setting['normalize']:\n",
    "    X /= np.tile(np.linalg.norm(X,axis=0),(n,1))\n",
    "matXtrue = X[:,:d]\n",
    "\n",
    "sig = sigmoid(matXtrue @ theta)\n",
    "yobs = np.random.rand(n) <= sig\n",
    "if lamb==-1:\n",
    "    if setting['normalize']:\n",
    "        model = LogisticRegressionCV(Cs = [0.05*(i+1) for i in range(33)], penalty='l1', solver='liblinear', fit_intercept=False)\n",
    "    else:\n",
    "        model = LogisticRegressionCV(Cs = [0.5*(i+1) for i in range(33)], penalty='l1', solver='liblinear', fit_intercept=False)\n",
    "    model.fit(X, yobs)\n",
    "    lamb = 1/model.C_[0]\n",
    "else:\n",
    "    model = LogisticRegression(C = 1/lamb, penalty='l1', solver='liblinear', fit_intercept=False)\n",
    "    model.fit(X, yobs)\n",
    "theta_obs = model.coef_[0]\n",
    "M = np.where( np.abs(theta_obs) > 1e-5)[0]\n",
    "\n",
    "thetanull = np.copy(truetheta)\n",
    "signull = sigmoid(X @ thetanull)"
   ]
  }
 ],
 "metadata": {
  "kernelspec": {
   "display_name": "Python 3",
   "language": "python",
   "name": "python3"
  },
  "language_info": {
   "codemirror_mode": {
    "name": "ipython",
    "version": 3
   },
   "file_extension": ".py",
   "mimetype": "text/x-python",
   "name": "python",
   "nbconvert_exporter": "python",
   "pygments_lexer": "ipython3",
   "version": "3.7.6"
  }
 },
 "nbformat": 4,
 "nbformat_minor": 5
}
