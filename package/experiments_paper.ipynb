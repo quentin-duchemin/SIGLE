{
 "cells": [
  {
   "cell_type": "code",
   "execution_count": 1,
   "id": "05288783",
   "metadata": {},
   "outputs": [],
   "source": [
    "import PSILOGIT\n",
    "import numpy as np\n",
    "from PSILOGIT.tools import *"
   ]
  },
  {
   "cell_type": "code",
   "execution_count": null,
   "id": "77bbe9aa",
   "metadata": {},
   "outputs": [],
   "source": []
  },
  {
   "cell_type": "code",
   "execution_count": null,
   "id": "4fb50073",
   "metadata": {},
   "outputs": [],
   "source": []
  },
  {
   "cell_type": "code",
   "execution_count": 13,
   "id": "36048d75",
   "metadata": {},
   "outputs": [],
   "source": [
    "model = PSILOGIT.PSILOGIT(np.ones(20), 0.1, n=5)"
   ]
  },
  {
   "cell_type": "code",
   "execution_count": 15,
   "id": "a141622d",
   "metadata": {},
   "outputs": [],
   "source": [
    "nbM_admissibles, ls_states_admissibles = model.compute_selection_event()"
   ]
  },
  {
   "cell_type": "code",
   "execution_count": 16,
   "id": "7aeb5484",
   "metadata": {},
   "outputs": [],
   "source": [
    "states, ls_FNR = model.SEI_SLR(total_length_SEISLR_path=50000, backup_start_time=2, random_start=False, conditioning_signs=False)"
   ]
  },
  {
   "cell_type": "code",
   "execution_count": 17,
   "id": "3305751c",
   "metadata": {},
   "outputs": [
    {
     "data": {
      "image/png": "[encoded data removed]",
      "text/plain": [
       "<Figure size 432x288 with 1 Axes>"
      ]
     },
     "metadata": {
      "needs_background": "light"
     },
     "output_type": "display_data"
    }
   ],
   "source": [
    "model.last_visited_states(states, ls_states_admissibles)"
   ]
  },
  {
   "cell_type": "code",
   "execution_count": 18,
   "id": "6dc820c6",
   "metadata": {},
   "outputs": [
    {
     "data": {
      "image/png": "[encoded data removed]",
      "text/plain": [
       "<Figure size 432x288 with 1 Axes>"
      ]
     },
     "metadata": {
      "needs_background": "light"
     },
     "output_type": "display_data"
    }
   ],
   "source": [
    "model.histo_time_in_selection_event(states, ls_states_admissibles)"
   ]
  },
  {
   "cell_type": "code",
   "execution_count": 14,
   "id": "56cc67b5",
   "metadata": {},
   "outputs": [
    {
     "data": {
      "text/plain": [
       "array([ 6,  7,  9, 18], dtype=int64)"
      ]
     },
     "execution_count": 14,
     "metadata": {},
     "output_type": "execute_result"
    }
   ],
   "source": [
    "model.M"
   ]
  },
  {
   "cell_type": "code",
   "execution_count": null,
   "id": "9cc33d42",
   "metadata": {},
   "outputs": [],
   "source": []
  },
  {
   "cell_type": "code",
   "execution_count": null,
   "id": "f72e4bfa",
   "metadata": {},
   "outputs": [],
   "source": []
  },
  {
   "cell_type": "code",
   "execution_count": null,
   "id": "2321b9eb",
   "metadata": {},
   "outputs": [],
   "source": []
  },
  {
   "cell_type": "code",
   "execution_count": null,
   "id": "44a887ac",
   "metadata": {},
   "outputs": [],
   "source": []
  }
 ],
 "metadata": {
  "kernelspec": {
   "display_name": "Python 3 (ipykernel)",
   "language": "python",
   "name": "python3"
  },
  "language_info": {
   "codemirror_mode": {
    "name": "ipython",
    "version": 3
   },
   "file_extension": ".py",
   "mimetype": "text/x-python",
   "name": "python",
   "nbconvert_exporter": "python",
   "pygments_lexer": "ipython3",
   "version": "3.9.7"
  }
 },
 "nbformat": 4,
 "nbformat_minor": 5
}
