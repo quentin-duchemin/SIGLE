{
 "cells": [
  {
   "cell_type": "code",
   "execution_count": 16,
   "id": "42da67ed",
   "metadata": {},
   "outputs": [],
   "source": [
    "import PSILOGIT\n",
    "import numpy as np\n",
    "from PSILOGIT.tools import *"
   ]
  },
  {
   "cell_type": "markdown",
   "id": "48baf7bb",
   "metadata": {},
   "source": [
    "# 1) Define the settings of your experiment"
   ]
  },
  {
   "cell_type": "code",
   "execution_count": 13,
   "id": "d7f9b04d",
   "metadata": {},
   "outputs": [],
   "source": [
    "model = PSILOGIT.PSILOGIT(np.ones(4), 0.7, n=10)"
   ]
  },
  {
   "cell_type": "markdown",
   "id": "2a3cc7e4",
   "metadata": {},
   "source": [
    "# 2) Sample states"
   ]
  },
  {
   "cell_type": "markdown",
   "id": "3c277d1b",
   "metadata": {},
   "source": [
    "## 2.1) Rejection sampling"
   ]
  },
  {
   "cell_type": "code",
   "execution_count": 14,
   "id": "a0a37ff0",
   "metadata": {},
   "outputs": [
    {
     "data": {
      "application/vnd.jupyter.widget-view+json": {
       "model_id": "36664a8838fd49289e68c5dbcda4c9bb",
       "version_major": 2,
       "version_minor": 0
      },
      "text/plain": [
       "  0%|          | 0/10000 [00:00<?, ?it/s]"
      ]
     },
     "metadata": {},
     "output_type": "display_data"
    }
   ],
   "source": [
    "states = model.SEI_by_sampling(model.sig, nb_ite=10000)"
   ]
  },
  {
   "cell_type": "markdown",
   "id": "25ab3828",
   "metadata": {},
   "source": [
    "## 2.2) Simulated Annealing"
   ]
  },
  {
   "cell_type": "code",
   "execution_count": 4,
   "id": "95d958aa",
   "metadata": {},
   "outputs": [],
   "source": [
    "states, ls_FNR = model.SEI_SLR(total_length_SEISLR_path=3000, backup_start_time=1000, random_start=False, conditioning_signs=False)"
   ]
  },
  {
   "cell_type": "markdown",
   "id": "6d45c5f6",
   "metadata": {},
   "source": [
    "## 2.3) Figures to study the sampling from simulated annealing"
   ]
  },
  {
   "cell_type": "code",
   "execution_count": 6,
   "id": "37acbbee",
   "metadata": {},
   "outputs": [],
   "source": [
    "nbM_admissibles, ls_states_admissibles = model.compute_selection_event()"
   ]
  },
  {
   "cell_type": "code",
   "execution_count": 5,
   "id": "893e859b",
   "metadata": {},
   "outputs": [
    {
     "data": {
      "image/png": "[encoded data removed]",
      "text/plain": [
       "<Figure size 432x288 with 1 Axes>"
      ]
     },
     "metadata": {
      "needs_background": "light"
     },
     "output_type": "display_data"
    }
   ],
   "source": [
    "model.last_visited_states(states, ls_states_admissibles)"
   ]
  },
  {
   "cell_type": "code",
   "execution_count": 6,
   "id": "12a73779",
   "metadata": {},
   "outputs": [
    {
     "data": {
      "image/png": "[encoded data removed]",
      "text/plain": [
       "<Figure size 432x288 with 1 Axes>"
      ]
     },
     "metadata": {
      "needs_background": "light"
     },
     "output_type": "display_data"
    }
   ],
   "source": [
    "model.histo_time_in_selection_event(states, ls_states_admissibles)"
   ]
  },
  {
   "cell_type": "markdown",
   "id": "899e3c9b",
   "metadata": {},
   "source": [
    "# 3) Hypothesis Testing"
   ]
  },
  {
   "cell_type": "code",
   "execution_count": 18,
   "id": "39eda826",
   "metadata": {},
   "outputs": [
    {
     "data": {
      "application/vnd.jupyter.widget-view+json": {
       "model_id": "5b70b9b22d084f66b372f057c652e017",
       "version_major": 2,
       "version_minor": 0
      },
      "text/plain": [
       "  0%|          | 0/10000 [00:00<?, ?it/s]"
      ]
     },
     "metadata": {},
     "output_type": "display_data"
    }
   ],
   "source": [
    "thetanull = np.zeros(model.X.shape[1])\n",
    "signull = sigmoid(model.X @ thetanull)\n",
    "statesnull = model.SEI_by_sampling(signull, nb_ite=10000)"
   ]
  },
  {
   "cell_type": "markdown",
   "id": "28ac34eb",
   "metadata": {},
   "source": [
    "## 3.0) Estimation of the conditional mean (under the null)"
   ]
  },
  {
   "cell_type": "code",
   "execution_count": 19,
   "id": "fdc9d5d9",
   "metadata": {},
   "outputs": [
    {
     "data": {
      "application/vnd.jupyter.widget-view+json": {
       "model_id": "d828b8e7365849a2bdd0c9c81315ea67",
       "version_major": 2,
       "version_minor": 0
      },
      "text/plain": [
       "  0%|          | 0/969 [00:00<?, ?it/s]"
      ]
     },
     "metadata": {},
     "output_type": "display_data"
    }
   ],
   "source": [
    "tildeGN12, barpi = model.params_saturated(signull, statesnull)"
   ]
  },
  {
   "cell_type": "markdown",
   "id": "4b749b7b",
   "metadata": {},
   "source": [
    "## 3.1) SIGLE"
   ]
  },
  {
   "cell_type": "code",
   "execution_count": 27,
   "id": "cb20aec7",
   "metadata": {},
   "outputs": [
    {
     "data": {
      "application/vnd.jupyter.widget-view+json": {
       "model_id": "007e43c4c1b94c5999f9885b04fd39c0",
       "version_major": 2,
       "version_minor": 0
      },
      "text/plain": [
       "  0%|          | 0/1321 [00:00<?, ?it/s]"
      ]
     },
     "metadata": {},
     "output_type": "display_data"
    },
    {
     "data": {
      "application/vnd.jupyter.widget-view+json": {
       "model_id": "38299f89e7d946058f4211f3d046d4aa",
       "version_major": 2,
       "version_minor": 0
      },
      "text/plain": [
       "  0%|          | 0/969 [00:00<?, ?it/s]"
      ]
     },
     "metadata": {},
     "output_type": "display_data"
    }
   ],
   "source": [
    "lspvals_selec, lspvals_sat, gaps = model.pval_SIGLE(states, barpi, l2_regularization=10, grad_descent={'lr':0.01,'return_gaps':True,'max_ite':100}, calibrated_from_samples=True, statesnull=statesnull)"
   ]
  },
  {
   "cell_type": "markdown",
   "id": "8c44b85d",
   "metadata": {},
   "source": [
    "## 3.2) Taylor's procedure"
   ]
  },
  {
   "cell_type": "code",
   "execution_count": 25,
   "id": "4aeb50b8",
   "metadata": {},
   "outputs": [
    {
     "data": {
      "application/vnd.jupyter.widget-view+json": {
       "model_id": "34397a889d77408f87c24468132f0f76",
       "version_major": 2,
       "version_minor": 0
      },
      "text/plain": [
       "  0%|          | 0/1321 [00:00<?, ?it/s]"
      ]
     },
     "metadata": {},
     "output_type": "display_data"
    }
   ],
   "source": [
    "gamma = np.zeros(len(model.M))\n",
    "gamma[0] = 1\n",
    "lspvals_tay = model.pval_taylor(states, thetanull=thetanull, gamma=gamma)"
   ]
  },
  {
   "cell_type": "markdown",
   "id": "553ac72a",
   "metadata": {},
   "source": [
    "## 3.3) Weak Learner"
   ]
  },
  {
   "cell_type": "code",
   "execution_count": 21,
   "id": "d1e4bbd5",
   "metadata": {},
   "outputs": [
    {
     "data": {
      "application/vnd.jupyter.widget-view+json": {
       "model_id": "57a0ec5cb31946d6b0df67dd095c2b65",
       "version_major": 2,
       "version_minor": 0
      },
      "text/plain": [
       "  0%|          | 0/200 [00:00<?, ?it/s]"
      ]
     },
     "metadata": {},
     "output_type": "display_data"
    },
    {
     "data": {
      "application/vnd.jupyter.widget-view+json": {
       "model_id": "2eaa662c0f3a43ef83e30e3d15849b1c",
       "version_major": 2,
       "version_minor": 0
      },
      "text/plain": [
       "  0%|          | 0/200 [00:00<?, ?it/s]"
      ]
     },
     "metadata": {},
     "output_type": "display_data"
    }
   ],
   "source": [
    "lspvals_naive = model.pval_weak_learner(statesnull, states, barpi, signull=np.zeros(model.X.shape[0]))"
   ]
  },
  {
   "cell_type": "markdown",
   "id": "3fc46621",
   "metadata": {},
   "source": [
    "## 3.4) p-values"
   ]
  },
  {
   "cell_type": "code",
   "execution_count": 28,
   "id": "60b9d84a",
   "metadata": {},
   "outputs": [
    {
     "data": {
      "image/png": "[encoded data removed]",
      "text/plain": [
       "<Figure size 432x288 with 1 Axes>"
      ]
     },
     "metadata": {
      "needs_background": "light"
     },
     "output_type": "display_data"
    }
   ],
   "source": [
    "lists_pvalues = [lspvals_naive, lspvals_tay, lspvals_selec, lspvals_sat]\n",
    "names = ['Weak learner', \"Taylor & Tibshirani '18\", 'SIGLE Selected', 'SIGLE Saturated']\n",
    "model.plot_cdf_pvalues(lists_pvalues, names, states = states, sigalt=model.sig, figname=None)"
   ]
  },
  {
   "cell_type": "markdown",
   "id": "b8f3463e",
   "metadata": {},
   "source": [
    "## 3.5) Visualization of the SIGLE hypothesis testing for a selected support of size 2"
   ]
  },
  {
   "cell_type": "code",
   "execution_count": null,
   "id": "2d8f0f80",
   "metadata": {},
   "outputs": [],
   "source": [
    "model_size2 = PSILOGIT.PSILOGIT(np.zeros(2), 0.1, n=100)\n",
    "print('Size of the selection event: ', len(model_size2.M))\n",
    "states2 = model_size2.SEI_by_sampling(model_size2.sig, nb_ite=50000)\n",
    "tildeGN12, barpi = model_size2.params_saturated(model_size2.sig, states2)"
   ]
  },
  {
   "cell_type": "code",
   "execution_count": null,
   "id": "44396ae3",
   "metadata": {},
   "outputs": [],
   "source": [
    "model_size2.ellipse_testing(states2, barpi, alpha=0.05, figname=None, grad_descent={'lr':0.01,'return_gaps':True,'max_ite':500}, l2_regularization=100000)"
   ]
  }
 ],
 "metadata": {
  "kernelspec": {
   "display_name": "Python 3 (ipykernel)",
   "language": "python",
   "name": "python3"
  },
  "language_info": {
   "codemirror_mode": {
    "name": "ipython",
    "version": 3
   },
   "file_extension": ".py",
   "mimetype": "text/x-python",
   "name": "python",
   "nbconvert_exporter": "python",
   "pygments_lexer": "ipython3",
   "version": "3.9.7"
  }
 },
 "nbformat": 4,
 "nbformat_minor": 5
}
